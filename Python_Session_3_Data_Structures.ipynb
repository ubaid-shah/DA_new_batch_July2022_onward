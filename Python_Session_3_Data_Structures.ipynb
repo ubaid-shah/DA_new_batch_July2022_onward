{
  "cells": [
    {
      "cell_type": "markdown",
      "metadata": {
        "id": "view-in-github",
        "colab_type": "text"
      },
      "source": [
        "<a href=\"https://colab.research.google.com/github/ubaid-shah/DA_new_batch_July2022_onward/blob/main/Python_Session_3_Data_Structures.ipynb\" target=\"_parent\"><img src=\"https://colab.research.google.com/assets/colab-badge.svg\" alt=\"Open In Colab\"/></a>"
      ]
    },
    {
      "cell_type": "markdown",
      "source": [
        "# Session 3 -- Data Structures in Python\n",
        "\n",
        "![](https://i.imgur.com/KS5Xjk9.jpg)\n",
        "\n",
        "**Data Structures** are a way of organizing data so that it can be accessed more efficiently depending upon the situation. Data Structures are fundamentals of any programming language around which a program is built. "
      ],
      "metadata": {
        "id": "CYwEg2CIxEOY"
      }
    },
    {
      "cell_type": "markdown",
      "source": [
        "### List\n",
        "![](https://i.imgur.com/bMeAt4T.jpg)\n",
        "\n",
        "Python Lists are just like the arrays, declared in other languages which is an ordered collection of data. It is very flexible as the items in a list do not need to be of the same type.\n",
        "\n",
        "\n",
        "A list is created by placing elements inside square brackets '[ ]' , separated by commas. A list can have any number of items and they may be of different types (integer, float, string, etc.). A list can also have another list as an item.\n",
        "\n",
        "**Access List Elements**\n",
        "\n",
        "There are various ways in which we can access the elements of a list.\n",
        "List Index\n",
        "\n",
        "We can use the index operator '[ ]' to access an item in a list. In Python, indices start at 0. So, a list having 5 elements will have an index from 0 to 4.\n",
        "\n",
        "Trying to access indexes other than these will raise an IndexError. The index must be an integer. We can't use float or other types, this will result in TypeError.\n",
        "\n",
        "Nested lists are accessed using nested indexing.\n",
        "\n",
        "\n",
        "![](https://i.imgur.com/cMQqg22.jpg)\n",
        "\n",
        "Python allows negative indexing for its sequences. The index of -1 refers to the last item, -2 to the second last item and so on."
      ],
      "metadata": {
        "id": "D4zd80I_8MRv"
      }
    },
    {
      "cell_type": "markdown",
      "metadata": {
        "id": "fd491179"
      },
      "source": [
        "Ordered Mutable Sequence"
      ]
    },
    {
      "cell_type": "code",
      "execution_count": null,
      "metadata": {
        "id": "961c33d0"
      },
      "outputs": [],
      "source": [
        "a=[]            # Empty list"
      ]
    },
    {
      "cell_type": "code",
      "execution_count": null,
      "metadata": {
        "id": "09e3fb58",
        "outputId": "cb18d718-5ee4-4f70-a96a-9d72f868c0d2"
      },
      "outputs": [
        {
          "data": {
            "text/plain": [
              "list"
            ]
          },
          "execution_count": 143,
          "metadata": {},
          "output_type": "execute_result"
        }
      ],
      "source": [
        "type(a)"
      ]
    },
    {
      "cell_type": "code",
      "execution_count": null,
      "metadata": {
        "id": "01162844"
      },
      "outputs": [],
      "source": [
        "a.append('Ubaid')       # to add element in the list use append()"
      ]
    },
    {
      "cell_type": "code",
      "execution_count": null,
      "metadata": {
        "id": "17749572",
        "outputId": "385dc68b-dc33-4c9c-d369-ba44d84aadc3"
      },
      "outputs": [
        {
          "data": {
            "text/plain": [
              "['Ubaid']"
            ]
          },
          "execution_count": 145,
          "metadata": {},
          "output_type": "execute_result"
        }
      ],
      "source": [
        "a"
      ]
    },
    {
      "cell_type": "code",
      "execution_count": null,
      "metadata": {
        "id": "ee7c9b43"
      },
      "outputs": [],
      "source": [
        "a.append('Rakshita')"
      ]
    },
    {
      "cell_type": "code",
      "execution_count": null,
      "metadata": {
        "id": "5d7eeeae",
        "outputId": "912cdbe8-67a9-4509-8797-bb1afd6be0d1"
      },
      "outputs": [
        {
          "data": {
            "text/plain": [
              "['Ubaid', 'Rakshita']"
            ]
          },
          "execution_count": 147,
          "metadata": {},
          "output_type": "execute_result"
        }
      ],
      "source": [
        "a"
      ]
    },
    {
      "cell_type": "code",
      "execution_count": null,
      "metadata": {
        "id": "37c669c2"
      },
      "outputs": [],
      "source": [
        "a.append('Medhir')"
      ]
    },
    {
      "cell_type": "code",
      "execution_count": null,
      "metadata": {
        "id": "93c049be",
        "outputId": "0cc3ffcc-9c9a-4bf8-a8c5-363f332b547e"
      },
      "outputs": [
        {
          "data": {
            "text/plain": [
              "['Ubaid', 'Rakshita', 'Medhir']"
            ]
          },
          "execution_count": 149,
          "metadata": {},
          "output_type": "execute_result"
        }
      ],
      "source": [
        "a"
      ]
    },
    {
      "cell_type": "code",
      "execution_count": null,
      "metadata": {
        "id": "9f814628"
      },
      "outputs": [],
      "source": [
        "a=a.append('Ritesh')"
      ]
    },
    {
      "cell_type": "code",
      "execution_count": null,
      "metadata": {
        "id": "bf7047d1"
      },
      "outputs": [],
      "source": [
        "a"
      ]
    },
    {
      "cell_type": "code",
      "execution_count": null,
      "metadata": {
        "id": "b4277fe4",
        "outputId": "ac9fd185-5ba3-480f-96e8-2ad3367d4e9e"
      },
      "outputs": [
        {
          "name": "stdout",
          "output_type": "stream",
          "text": [
            "None\n"
          ]
        }
      ],
      "source": [
        "print(a)"
      ]
    },
    {
      "cell_type": "code",
      "execution_count": null,
      "metadata": {
        "id": "b08abbd3"
      },
      "outputs": [],
      "source": [
        "a=[]\n",
        "a.append('Shirt')"
      ]
    },
    {
      "cell_type": "code",
      "execution_count": null,
      "metadata": {
        "id": "2d568002",
        "outputId": "f0e7fce8-b5b9-49e1-9295-d4836c077631",
        "colab": {
          "base_uri": "https://localhost:8080/"
        }
      },
      "outputs": [
        {
          "output_type": "execute_result",
          "data": {
            "text/plain": [
              "['Shirt']"
            ]
          },
          "metadata": {},
          "execution_count": 186
        }
      ],
      "source": [
        "a"
      ]
    },
    {
      "cell_type": "code",
      "execution_count": null,
      "metadata": {
        "id": "4181fc00",
        "outputId": "2bfeb9ab-9d2e-4a16-96e7-4bd649d01cbb",
        "colab": {
          "base_uri": "https://localhost:8080/",
          "height": 165
        }
      },
      "outputs": [
        {
          "output_type": "error",
          "ename": "TypeError",
          "evalue": "ignored",
          "traceback": [
            "\u001b[0;31m---------------------------------------------------------------------------\u001b[0m",
            "\u001b[0;31mTypeError\u001b[0m                                 Traceback (most recent call last)",
            "\u001b[0;32m<ipython-input-187-64811db97cc3>\u001b[0m in \u001b[0;36m<module>\u001b[0;34m\u001b[0m\n\u001b[0;32m----> 1\u001b[0;31m \u001b[0ma\u001b[0m\u001b[0;34m=\u001b[0m\u001b[0ma\u001b[0m\u001b[0;34m+\u001b[0m\u001b[0;34m'Pant'\u001b[0m       \u001b[0;31m# can't concatenate string to list\u001b[0m\u001b[0;34m\u001b[0m\u001b[0;34m\u001b[0m\u001b[0m\n\u001b[0m",
            "\u001b[0;31mTypeError\u001b[0m: can only concatenate list (not \"str\") to list"
          ]
        }
      ],
      "source": [
        "a=a+'Pant'       # can't concatenate string to list"
      ]
    },
    {
      "cell_type": "code",
      "execution_count": null,
      "metadata": {
        "id": "bd87e249"
      },
      "outputs": [],
      "source": [
        "a=a+['Pant']           # concatenate list to the list"
      ]
    },
    {
      "cell_type": "code",
      "execution_count": null,
      "metadata": {
        "id": "5597134b",
        "outputId": "df36a0c7-29f0-4e6f-b068-399ec77e487d",
        "colab": {
          "base_uri": "https://localhost:8080/"
        }
      },
      "outputs": [
        {
          "output_type": "execute_result",
          "data": {
            "text/plain": [
              "['Shirt', 'Pant']"
            ]
          },
          "metadata": {},
          "execution_count": 189
        }
      ],
      "source": [
        "a"
      ]
    },
    {
      "cell_type": "code",
      "execution_count": null,
      "metadata": {
        "id": "d35460ff",
        "outputId": "9d0e69ca-9157-4158-e5ef-5b10cea38a3d",
        "colab": {
          "base_uri": "https://localhost:8080/",
          "height": 165
        }
      },
      "outputs": [
        {
          "output_type": "error",
          "ename": "TypeError",
          "evalue": "ignored",
          "traceback": [
            "\u001b[0;31m---------------------------------------------------------------------------\u001b[0m",
            "\u001b[0;31mTypeError\u001b[0m                                 Traceback (most recent call last)",
            "\u001b[0;32m<ipython-input-191-5cb596ea5e17>\u001b[0m in \u001b[0;36m<module>\u001b[0;34m\u001b[0m\n\u001b[0;32m----> 1\u001b[0;31m \u001b[0ma\u001b[0m\u001b[0;34m+\u001b[0m\u001b[0;34m(\u001b[0m\u001b[0;34m'Jeans'\u001b[0m\u001b[0;34m,\u001b[0m\u001b[0;34m)\u001b[0m\u001b[0;34m\u001b[0m\u001b[0;34m\u001b[0m\u001b[0m\n\u001b[0m",
            "\u001b[0;31mTypeError\u001b[0m: can only concatenate list (not \"tuple\") to list"
          ]
        }
      ],
      "source": [
        "a+('Jeans',)"
      ]
    },
    {
      "cell_type": "code",
      "execution_count": null,
      "metadata": {
        "id": "bf1e2875",
        "outputId": "e93d59fd-2769-4e12-d0ee-af3f4bf5ebf2",
        "colab": {
          "base_uri": "https://localhost:8080/"
        }
      },
      "outputs": [
        {
          "output_type": "execute_result",
          "data": {
            "text/plain": [
              "['Shirt', 'Pant', 'Jeans']"
            ]
          },
          "metadata": {},
          "execution_count": 192
        }
      ],
      "source": [
        "a+['Jeans']"
      ]
    },
    {
      "cell_type": "code",
      "source": [
        "a"
      ],
      "metadata": {
        "colab": {
          "base_uri": "https://localhost:8080/"
        },
        "id": "qBBLhRrNAC8k",
        "outputId": "1ebd742c-70e5-4ca9-be51-051a59b28e3c"
      },
      "execution_count": null,
      "outputs": [
        {
          "output_type": "execute_result",
          "data": {
            "text/plain": [
              "['Shirt', 'Pant']"
            ]
          },
          "metadata": {},
          "execution_count": 193
        }
      ]
    },
    {
      "cell_type": "code",
      "execution_count": null,
      "metadata": {
        "id": "a25d1b6b"
      },
      "outputs": [],
      "source": [
        "a=a+[\"Shoes\",\"Tshirt\"]"
      ]
    },
    {
      "cell_type": "code",
      "execution_count": null,
      "metadata": {
        "id": "36d95e44",
        "outputId": "6f596a26-bbe8-4676-b33f-851d0eddfc6d",
        "colab": {
          "base_uri": "https://localhost:8080/"
        }
      },
      "outputs": [
        {
          "output_type": "execute_result",
          "data": {
            "text/plain": [
              "['Shirt', 'Pant', 'Shoes', 'Tshirt']"
            ]
          },
          "metadata": {},
          "execution_count": 195
        }
      ],
      "source": [
        "a"
      ]
    },
    {
      "cell_type": "code",
      "execution_count": null,
      "metadata": {
        "id": "36a7478b",
        "outputId": "006eb484-a4ee-44a3-b998-f246f7d64132",
        "colab": {
          "base_uri": "https://localhost:8080/",
          "height": 36
        }
      },
      "outputs": [
        {
          "output_type": "execute_result",
          "data": {
            "text/plain": [
              "'Tshirt'"
            ],
            "application/vnd.google.colaboratory.intrinsic+json": {
              "type": "string"
            }
          },
          "metadata": {},
          "execution_count": 196
        }
      ],
      "source": [
        "a.pop()   # to remove the item from the end"
      ]
    },
    {
      "cell_type": "code",
      "execution_count": null,
      "metadata": {
        "id": "64cd7511",
        "outputId": "00c9bee1-c50a-4e60-81b6-6e1e295faf10",
        "colab": {
          "base_uri": "https://localhost:8080/"
        }
      },
      "outputs": [
        {
          "output_type": "execute_result",
          "data": {
            "text/plain": [
              "['Shirt', 'Pant', 'Shoes']"
            ]
          },
          "metadata": {},
          "execution_count": 197
        }
      ],
      "source": [
        "a"
      ]
    },
    {
      "cell_type": "code",
      "execution_count": null,
      "metadata": {
        "id": "72d3812a",
        "outputId": "96dd3e62-7c8a-4938-a1d0-6deacb826df9",
        "colab": {
          "base_uri": "https://localhost:8080/",
          "height": 36
        }
      },
      "outputs": [
        {
          "output_type": "execute_result",
          "data": {
            "text/plain": [
              "'Shoes'"
            ],
            "application/vnd.google.colaboratory.intrinsic+json": {
              "type": "string"
            }
          },
          "metadata": {},
          "execution_count": 198
        }
      ],
      "source": [
        "a.pop()"
      ]
    },
    {
      "cell_type": "code",
      "execution_count": null,
      "metadata": {
        "id": "524eaee5",
        "outputId": "682baff3-4687-4123-f2f0-c37e85f7b4d6",
        "colab": {
          "base_uri": "https://localhost:8080/"
        }
      },
      "outputs": [
        {
          "output_type": "execute_result",
          "data": {
            "text/plain": [
              "['Shirt', 'Pant']"
            ]
          },
          "metadata": {},
          "execution_count": 199
        }
      ],
      "source": [
        "a"
      ]
    },
    {
      "cell_type": "code",
      "execution_count": null,
      "metadata": {
        "id": "2ba06201"
      },
      "outputs": [],
      "source": [
        "a=a+[\"Shoes\",\"Tshirt\"]          # concatenate multiple elements in the list"
      ]
    },
    {
      "cell_type": "code",
      "execution_count": null,
      "metadata": {
        "id": "6df3db4f",
        "outputId": "68c26fb5-086e-4470-9baa-a017a5299f0a",
        "colab": {
          "base_uri": "https://localhost:8080/"
        }
      },
      "outputs": [
        {
          "output_type": "execute_result",
          "data": {
            "text/plain": [
              "['Shirt', 'Pant', 'Shoes', 'Tshirt']"
            ]
          },
          "metadata": {},
          "execution_count": 201
        }
      ],
      "source": [
        "a"
      ]
    },
    {
      "cell_type": "markdown",
      "source": [
        "#### List slicing and list operations"
      ],
      "metadata": {
        "id": "m4za17EzA44O"
      }
    },
    {
      "cell_type": "code",
      "execution_count": null,
      "metadata": {
        "id": "b757ccbe",
        "outputId": "5a582c2a-1d34-46ea-ac29-b0ba76a012c4",
        "colab": {
          "base_uri": "https://localhost:8080/",
          "height": 36
        }
      },
      "outputs": [
        {
          "output_type": "execute_result",
          "data": {
            "text/plain": [
              "'Shirt'"
            ],
            "application/vnd.google.colaboratory.intrinsic+json": {
              "type": "string"
            }
          },
          "metadata": {},
          "execution_count": 202
        }
      ],
      "source": [
        "a[0]"
      ]
    },
    {
      "cell_type": "code",
      "execution_count": null,
      "metadata": {
        "id": "e6d053ca",
        "outputId": "5ce3e1eb-e844-47c6-abb0-46f64ac96c29",
        "colab": {
          "base_uri": "https://localhost:8080/",
          "height": 36
        }
      },
      "outputs": [
        {
          "output_type": "execute_result",
          "data": {
            "text/plain": [
              "'Pant'"
            ],
            "application/vnd.google.colaboratory.intrinsic+json": {
              "type": "string"
            }
          },
          "metadata": {},
          "execution_count": 203
        }
      ],
      "source": [
        "a[1]"
      ]
    },
    {
      "cell_type": "code",
      "execution_count": null,
      "metadata": {
        "id": "9e83de79",
        "outputId": "1688c972-447d-4022-f357-7039cb247a2f",
        "colab": {
          "base_uri": "https://localhost:8080/",
          "height": 36
        }
      },
      "outputs": [
        {
          "output_type": "execute_result",
          "data": {
            "text/plain": [
              "'Tshirt'"
            ],
            "application/vnd.google.colaboratory.intrinsic+json": {
              "type": "string"
            }
          },
          "metadata": {},
          "execution_count": 204
        }
      ],
      "source": [
        "a[-1]"
      ]
    },
    {
      "cell_type": "code",
      "execution_count": null,
      "metadata": {
        "id": "6f50f639",
        "outputId": "61f4e894-00bf-466b-d69d-23e71d0faca5",
        "colab": {
          "base_uri": "https://localhost:8080/"
        }
      },
      "outputs": [
        {
          "output_type": "execute_result",
          "data": {
            "text/plain": [
              "['Pant', 'Shoes']"
            ]
          },
          "metadata": {},
          "execution_count": 205
        }
      ],
      "source": [
        "a[1:3]    # [start: end+1: step]"
      ]
    },
    {
      "cell_type": "code",
      "execution_count": null,
      "metadata": {
        "id": "ced2c52b"
      },
      "outputs": [],
      "source": [
        "num=[1,2,3,6,9,8,7,4,5,2,1,4,5,6,9,8,7]"
      ]
    },
    {
      "cell_type": "code",
      "execution_count": null,
      "metadata": {
        "id": "0dbe1a02",
        "outputId": "02f9d441-6662-46be-fc12-a266c1344ed7",
        "colab": {
          "base_uri": "https://localhost:8080/"
        }
      },
      "outputs": [
        {
          "output_type": "execute_result",
          "data": {
            "text/plain": [
              "17"
            ]
          },
          "metadata": {},
          "execution_count": 207
        }
      ],
      "source": [
        "len(num)"
      ]
    },
    {
      "cell_type": "code",
      "execution_count": null,
      "metadata": {
        "id": "d240cf49",
        "outputId": "bbaa4615-b232-4ee3-e705-c8bbaf987907",
        "colab": {
          "base_uri": "https://localhost:8080/"
        }
      },
      "outputs": [
        {
          "output_type": "execute_result",
          "data": {
            "text/plain": [
              "[3, 6, 9, 8, 7, 4]"
            ]
          },
          "metadata": {},
          "execution_count": 208
        }
      ],
      "source": [
        "# Elements from 2nd to 7th item\n",
        "\n",
        "num[2:8]"
      ]
    },
    {
      "cell_type": "code",
      "execution_count": null,
      "metadata": {
        "id": "f4ef07b3",
        "outputId": "a7c860c0-c527-4865-dc08-ccef047351c3",
        "colab": {
          "base_uri": "https://localhost:8080/"
        }
      },
      "outputs": [
        {
          "output_type": "execute_result",
          "data": {
            "text/plain": [
              "6"
            ]
          },
          "metadata": {},
          "execution_count": 209
        }
      ],
      "source": [
        "# 4th element from end\n",
        "num[-4]"
      ]
    },
    {
      "cell_type": "code",
      "execution_count": null,
      "metadata": {
        "id": "760a244c",
        "outputId": "f3c25be0-1ef7-4129-9739-3be0105cb791",
        "colab": {
          "base_uri": "https://localhost:8080/"
        }
      },
      "outputs": [
        {
          "output_type": "execute_result",
          "data": {
            "text/plain": [
              "[6, 9, 8, 7]"
            ]
          },
          "metadata": {},
          "execution_count": 210
        }
      ],
      "source": [
        "# 4th  from end to last element\n",
        "\n",
        "num[-4:]"
      ]
    },
    {
      "cell_type": "code",
      "execution_count": null,
      "metadata": {
        "id": "3fba01d1"
      },
      "outputs": [],
      "source": [
        "# 4th  from end to last element\n",
        "\n",
        "num1=num[-4:][-2]"
      ]
    },
    {
      "cell_type": "code",
      "execution_count": null,
      "metadata": {
        "id": "97a5489b",
        "outputId": "a0d6ad80-1932-437c-91ba-4731bcf4f539",
        "colab": {
          "base_uri": "https://localhost:8080/"
        }
      },
      "outputs": [
        {
          "output_type": "execute_result",
          "data": {
            "text/plain": [
              "8"
            ]
          },
          "metadata": {},
          "execution_count": 212
        }
      ],
      "source": [
        "num1"
      ]
    },
    {
      "cell_type": "code",
      "execution_count": null,
      "metadata": {
        "id": "50db7a0b",
        "outputId": "910c87c9-e770-4fb1-e721-ff77a5f8b487",
        "colab": {
          "base_uri": "https://localhost:8080/"
        }
      },
      "outputs": [
        {
          "output_type": "execute_result",
          "data": {
            "text/plain": [
              "[1, 2, 3, 6, 9, 8, 7, 4, 5, 2, 1, 4, 5, 6, 9, 8, 7]"
            ]
          },
          "metadata": {},
          "execution_count": 213
        }
      ],
      "source": [
        "num"
      ]
    },
    {
      "cell_type": "code",
      "execution_count": null,
      "metadata": {
        "id": "48e35d12",
        "outputId": "1f7b67c1-f861-433f-f379-6819e960b1c8",
        "colab": {
          "base_uri": "https://localhost:8080/"
        }
      },
      "outputs": [
        {
          "output_type": "stream",
          "name": "stdout",
          "text": [
            "2\n",
            "6\n",
            "8\n",
            "4\n",
            "2\n",
            "4\n",
            "6\n",
            "8\n"
          ]
        }
      ],
      "source": [
        "# find out the even numbers from the list\n",
        "\n",
        "for i in num:\n",
        "    if i%2==0:\n",
        "        print(i)"
      ]
    },
    {
      "cell_type": "code",
      "execution_count": null,
      "metadata": {
        "id": "f9cf650a"
      },
      "outputs": [],
      "source": [
        "# find out the even numbers from the list\n",
        "even=[]\n",
        "for i in num:\n",
        "    if i%2==0:\n",
        "        even.append(i)"
      ]
    },
    {
      "cell_type": "code",
      "execution_count": null,
      "metadata": {
        "id": "974d8d2c",
        "outputId": "cbb38ea0-5205-4349-c006-9ce2dd6e7541",
        "colab": {
          "base_uri": "https://localhost:8080/"
        }
      },
      "outputs": [
        {
          "output_type": "execute_result",
          "data": {
            "text/plain": [
              "[2, 6, 8, 4, 2, 4, 6, 8]"
            ]
          },
          "metadata": {},
          "execution_count": 216
        }
      ],
      "source": [
        "even"
      ]
    },
    {
      "cell_type": "code",
      "execution_count": null,
      "metadata": {
        "id": "1eb058c2"
      },
      "outputs": [],
      "source": [
        "# find out the unique even numbers from the list\n",
        "even=[]\n",
        "for i in num:\n",
        "    if i%2==0:\n",
        "        if i not in even:\n",
        "            even.append(i)\n"
      ]
    },
    {
      "cell_type": "code",
      "execution_count": null,
      "metadata": {
        "id": "a8133d8f",
        "outputId": "d8c3e436-3d70-4850-a8ca-85e5d7101c73",
        "colab": {
          "base_uri": "https://localhost:8080/"
        }
      },
      "outputs": [
        {
          "output_type": "execute_result",
          "data": {
            "text/plain": [
              "[2, 6, 8, 4]"
            ]
          },
          "metadata": {},
          "execution_count": 218
        }
      ],
      "source": [
        "even"
      ]
    },
    {
      "cell_type": "code",
      "execution_count": null,
      "metadata": {
        "id": "4b39fa86"
      },
      "outputs": [],
      "source": [
        "even.sort()       # to sort the list in ascending order"
      ]
    },
    {
      "cell_type": "code",
      "execution_count": null,
      "metadata": {
        "id": "c95b2a1d",
        "outputId": "5395273c-fea9-4813-85f4-6c68bd1d3561"
      },
      "outputs": [
        {
          "data": {
            "text/plain": [
              "[2, 4, 6, 8]"
            ]
          },
          "execution_count": 188,
          "metadata": {},
          "output_type": "execute_result"
        }
      ],
      "source": [
        "even"
      ]
    },
    {
      "cell_type": "code",
      "execution_count": null,
      "metadata": {
        "id": "eb6ba9b4"
      },
      "outputs": [],
      "source": [
        "even=[]\n",
        "for i in num:\n",
        "    if i%2==0:\n",
        "        if i not in even:\n",
        "            even.append(i)"
      ]
    },
    {
      "cell_type": "code",
      "execution_count": null,
      "metadata": {
        "id": "6513aba9",
        "outputId": "9e70f6a3-b777-42a9-fff0-b61c9c620db7"
      },
      "outputs": [
        {
          "data": {
            "text/plain": [
              "[2, 6, 8, 4]"
            ]
          },
          "execution_count": 190,
          "metadata": {},
          "output_type": "execute_result"
        }
      ],
      "source": [
        "even"
      ]
    },
    {
      "cell_type": "code",
      "execution_count": null,
      "metadata": {
        "id": "fb81c1c1"
      },
      "outputs": [],
      "source": [
        "even.sort(reverse=True)  # sort the list in the reverse "
      ]
    },
    {
      "cell_type": "code",
      "execution_count": null,
      "metadata": {
        "id": "719c3ec2",
        "outputId": "d3f033bb-55b6-435a-ffb9-17b9e75b4299"
      },
      "outputs": [
        {
          "data": {
            "text/plain": [
              "[8, 6, 4, 2]"
            ]
          },
          "execution_count": 193,
          "metadata": {},
          "output_type": "execute_result"
        }
      ],
      "source": [
        "even"
      ]
    },
    {
      "cell_type": "code",
      "execution_count": null,
      "metadata": {
        "id": "5068d8a5"
      },
      "outputs": [],
      "source": [
        "even.reverse()"
      ]
    },
    {
      "cell_type": "code",
      "execution_count": null,
      "metadata": {
        "id": "aedf26ca",
        "outputId": "b857eb9c-19a8-4664-c7c1-1d8cb7dc5c6d"
      },
      "outputs": [
        {
          "data": {
            "text/plain": [
              "[2, 4, 6, 8]"
            ]
          },
          "execution_count": 195,
          "metadata": {},
          "output_type": "execute_result"
        }
      ],
      "source": [
        "even"
      ]
    },
    {
      "cell_type": "code",
      "execution_count": null,
      "metadata": {
        "id": "e1dfe9f7"
      },
      "outputs": [],
      "source": [
        "even.extend([10,12,14])"
      ]
    },
    {
      "cell_type": "code",
      "execution_count": null,
      "metadata": {
        "id": "38577fbc",
        "outputId": "ec66bd5c-61a2-4fe9-a989-730078000397"
      },
      "outputs": [
        {
          "data": {
            "text/plain": [
              "[2, 4, 6, 8, 10, 12, 14]"
            ]
          },
          "execution_count": 197,
          "metadata": {},
          "output_type": "execute_result"
        }
      ],
      "source": [
        "even"
      ]
    },
    {
      "cell_type": "code",
      "execution_count": null,
      "metadata": {
        "id": "b22b782c",
        "outputId": "8bcda945-5b48-4fe2-e4d6-0880c54e826c"
      },
      "outputs": [
        {
          "data": {
            "text/plain": [
              "6"
            ]
          },
          "execution_count": 198,
          "metadata": {},
          "output_type": "execute_result"
        }
      ],
      "source": [
        "even.pop(2)   # remove element from specific index"
      ]
    },
    {
      "cell_type": "code",
      "execution_count": null,
      "metadata": {
        "id": "5f1886b4"
      },
      "outputs": [],
      "source": [
        "even.remove(8)  # remove a specific element"
      ]
    },
    {
      "cell_type": "code",
      "execution_count": null,
      "metadata": {
        "id": "0d8f994d",
        "outputId": "2c04759a-7c42-4b9f-dac1-55b77c0a102f"
      },
      "outputs": [
        {
          "data": {
            "text/plain": [
              "[2, 4, 10, 12, 14]"
            ]
          },
          "execution_count": 200,
          "metadata": {},
          "output_type": "execute_result"
        }
      ],
      "source": [
        "even"
      ]
    },
    {
      "cell_type": "code",
      "execution_count": null,
      "metadata": {
        "id": "60e5070c"
      },
      "outputs": [],
      "source": [
        "even.insert(2,'Mango')      # to insert an element at specific elements"
      ]
    },
    {
      "cell_type": "code",
      "execution_count": null,
      "metadata": {
        "id": "671a118b",
        "outputId": "c926d094-6071-474e-b353-913bf5bb91ce"
      },
      "outputs": [
        {
          "data": {
            "text/plain": [
              "[2, 4, 'Mango', 10, 12, 14]"
            ]
          },
          "execution_count": 202,
          "metadata": {},
          "output_type": "execute_result"
        }
      ],
      "source": [
        "even"
      ]
    },
    {
      "cell_type": "code",
      "execution_count": null,
      "metadata": {
        "id": "ed508875",
        "outputId": "43e5b046-cf94-4642-dfd7-840c785e9aa9"
      },
      "outputs": [
        {
          "name": "stdout",
          "output_type": "stream",
          "text": [
            "Full Name: Ubaid Shah\n"
          ]
        }
      ],
      "source": [
        "message='Hi [name], Welocome to Board Infinity. Your Profile ID is [name]@boardinfinity.com and password is [name]@123'\n",
        "\n",
        "name=input('Full Name: ').split()          # split() will break down a string in the list based on delimeter"
      ]
    },
    {
      "cell_type": "code",
      "execution_count": null,
      "metadata": {
        "id": "fd88cc9e",
        "outputId": "6768fcb8-2b5d-48b1-9ced-2ca187d3ca66"
      },
      "outputs": [
        {
          "data": {
            "text/plain": [
              "['Ubaid', 'Shah']"
            ]
          },
          "execution_count": 212,
          "metadata": {},
          "output_type": "execute_result"
        }
      ],
      "source": [
        "name"
      ]
    },
    {
      "cell_type": "code",
      "execution_count": null,
      "metadata": {
        "id": "c298cd10",
        "outputId": "0a53d36f-038c-47a4-e618-d8243d2934b3"
      },
      "outputs": [
        {
          "name": "stdout",
          "output_type": "stream",
          "text": [
            "Hi Ubaid, Welocome to Board Infinity. Your Profile ID is ubaid@boardinfinity.com and password is Ubaid@123\n"
          ]
        }
      ],
      "source": [
        "print(f'Hi {name[0]}, Welocome to Board Infinity. Your Profile ID is {name[0].lower()}@boardinfinity.com and password is {name[0]}@123')"
      ]
    },
    {
      "cell_type": "code",
      "execution_count": null,
      "metadata": {
        "id": "30c583b8",
        "outputId": "e75511e1-a9e1-4817-cb3f-22d678e63b7b"
      },
      "outputs": [
        {
          "name": "stdout",
          "output_type": "stream",
          "text": [
            "Full Name: Shah Ubaid\n"
          ]
        }
      ],
      "source": [
        "f_name='Ubaid'\n",
        "l_name='Shah'\n",
        "name=input('Full Name: ').split()"
      ]
    },
    {
      "cell_type": "code",
      "execution_count": null,
      "metadata": {
        "id": "667e0a06",
        "outputId": "5ce17b39-ca25-4386-bbd7-5a2c9130d2c6"
      },
      "outputs": [
        {
          "data": {
            "text/plain": [
              "['Shah', 'Ubaid']"
            ]
          },
          "execution_count": 217,
          "metadata": {},
          "output_type": "execute_result"
        }
      ],
      "source": [
        "name"
      ]
    },
    {
      "cell_type": "code",
      "execution_count": null,
      "metadata": {
        "id": "1e1238da",
        "outputId": "725ffd21-c94c-47f9-b342-a28c773ddd93"
      },
      "outputs": [
        {
          "name": "stdout",
          "output_type": "stream",
          "text": [
            "Hi Ubaid, Welocome to Board Infinity. Your Profile ID is ubaid@boardinfinity.com and password is Ubaid@123\n"
          ]
        }
      ],
      "source": [
        "if name[0]==f_name:\n",
        "    print(f'Hi {name[0]}, Welocome to Board Infinity. Your Profile ID is {name[0].lower()}@boardinfinity.com and password is {name[0]}@123')\n",
        "else:\n",
        "    print(f'Hi {name[1]}, Welocome to Board Infinity. Your Profile ID is {name[1].lower()}@boardinfinity.com and password is {name[1]}@123')"
      ]
    },
    {
      "cell_type": "code",
      "execution_count": null,
      "metadata": {
        "id": "b1849616"
      },
      "outputs": [],
      "source": [
        "x=[1,2,3,4]\n",
        "y=x"
      ]
    },
    {
      "cell_type": "code",
      "execution_count": null,
      "metadata": {
        "id": "cfba73e5",
        "outputId": "98e93529-4ea7-4b8d-c92b-07eff5b6b49a"
      },
      "outputs": [
        {
          "data": {
            "text/plain": [
              "[1, 2, 3, 4]"
            ]
          },
          "execution_count": 220,
          "metadata": {},
          "output_type": "execute_result"
        }
      ],
      "source": [
        "y"
      ]
    },
    {
      "cell_type": "code",
      "execution_count": null,
      "metadata": {
        "id": "24529a0f"
      },
      "outputs": [],
      "source": [
        "z=y.copy()      # to copy the list "
      ]
    },
    {
      "cell_type": "code",
      "execution_count": null,
      "metadata": {
        "id": "2bebacd8",
        "outputId": "e7807fc4-4674-4617-ab69-1ca37dba8f93"
      },
      "outputs": [
        {
          "data": {
            "text/plain": [
              "[1, 2, 3, 4]"
            ]
          },
          "execution_count": 222,
          "metadata": {},
          "output_type": "execute_result"
        }
      ],
      "source": [
        "z"
      ]
    },
    {
      "cell_type": "code",
      "execution_count": null,
      "metadata": {
        "id": "9e2ccb61"
      },
      "outputs": [],
      "source": [
        "z.clear()        # to clear the list completely"
      ]
    },
    {
      "cell_type": "code",
      "execution_count": null,
      "metadata": {
        "id": "87cbd2c1",
        "outputId": "ccde298d-f472-4e15-fba3-d71b3f37f140"
      },
      "outputs": [
        {
          "data": {
            "text/plain": [
              "[]"
            ]
          },
          "execution_count": 224,
          "metadata": {},
          "output_type": "execute_result"
        }
      ],
      "source": [
        "z"
      ]
    },
    {
      "cell_type": "code",
      "execution_count": null,
      "metadata": {
        "id": "b2b71f89"
      },
      "outputs": [],
      "source": [
        "del y          # to delete the list"
      ]
    },
    {
      "cell_type": "code",
      "execution_count": null,
      "metadata": {
        "id": "b3d1e46a",
        "outputId": "430b3944-2e0a-4221-bc42-fd66826e81c8"
      },
      "outputs": [
        {
          "ename": "NameError",
          "evalue": "name 'y' is not defined",
          "output_type": "error",
          "traceback": [
            "\u001b[1;31m---------------------------------------------------------------------------\u001b[0m",
            "\u001b[1;31mNameError\u001b[0m                                 Traceback (most recent call last)",
            "Input \u001b[1;32mIn [226]\u001b[0m, in \u001b[0;36m<cell line: 1>\u001b[1;34m()\u001b[0m\n\u001b[1;32m----> 1\u001b[0m \u001b[43my\u001b[49m\n",
            "\u001b[1;31mNameError\u001b[0m: name 'y' is not defined"
          ]
        }
      ],
      "source": [
        "y"
      ]
    },
    {
      "cell_type": "code",
      "execution_count": null,
      "metadata": {
        "id": "c9b07e62",
        "outputId": "33c81f61-1d2d-4fb4-b13b-b9ed92a65b3b"
      },
      "outputs": [
        {
          "data": {
            "text/plain": [
              "[1, 2, 3, 4]"
            ]
          },
          "execution_count": 227,
          "metadata": {},
          "output_type": "execute_result"
        }
      ],
      "source": [
        "x"
      ]
    },
    {
      "cell_type": "code",
      "execution_count": null,
      "metadata": {
        "id": "1300b3d3"
      },
      "outputs": [],
      "source": [
        "del x[1:3]        # to delete the portion of the list"
      ]
    },
    {
      "cell_type": "code",
      "execution_count": null,
      "metadata": {
        "id": "e7723739",
        "outputId": "af7f6f4a-3fc5-4218-f73b-d27e97fe9517"
      },
      "outputs": [
        {
          "data": {
            "text/plain": [
              "[1, 4]"
            ]
          },
          "execution_count": 229,
          "metadata": {},
          "output_type": "execute_result"
        }
      ],
      "source": [
        "x"
      ]
    },
    {
      "cell_type": "code",
      "execution_count": null,
      "metadata": {
        "id": "46c14063"
      },
      "outputs": [],
      "source": [
        "e=[['mango','apple','cherry'],['Shirt','Pant','Tshirt']]          # to create list of the list"
      ]
    },
    {
      "cell_type": "code",
      "execution_count": null,
      "metadata": {
        "id": "9e9f6b0a",
        "outputId": "c76b5b19-92d9-4665-b277-b4ef2550df91"
      },
      "outputs": [
        {
          "data": {
            "text/plain": [
              "[['mango', 'apple', 'cherry'], ['Shirt', 'Pant', 'Tshirt']]"
            ]
          },
          "execution_count": 231,
          "metadata": {},
          "output_type": "execute_result"
        }
      ],
      "source": [
        "e"
      ]
    },
    {
      "cell_type": "code",
      "execution_count": null,
      "metadata": {
        "id": "5969c940"
      },
      "outputs": [],
      "source": [
        "fruit=e[0]"
      ]
    },
    {
      "cell_type": "code",
      "execution_count": null,
      "metadata": {
        "id": "45dbe8d2",
        "outputId": "ad821233-2259-438b-f6c5-180bef5e9c5f"
      },
      "outputs": [
        {
          "data": {
            "text/plain": [
              "['mango', 'apple', 'cherry']"
            ]
          },
          "execution_count": 233,
          "metadata": {},
          "output_type": "execute_result"
        }
      ],
      "source": [
        "fruit"
      ]
    },
    {
      "cell_type": "code",
      "execution_count": null,
      "metadata": {
        "id": "15d65a48"
      },
      "outputs": [],
      "source": [
        "fashion=e[1]"
      ]
    },
    {
      "cell_type": "code",
      "execution_count": null,
      "metadata": {
        "id": "c24460b9",
        "outputId": "f5613bc4-0fbc-4098-86a3-54f057d5caa6"
      },
      "outputs": [
        {
          "data": {
            "text/plain": [
              "['Shirt', 'Pant', 'Tshirt']"
            ]
          },
          "execution_count": 235,
          "metadata": {},
          "output_type": "execute_result"
        }
      ],
      "source": [
        "fashion"
      ]
    },
    {
      "cell_type": "code",
      "execution_count": null,
      "metadata": {
        "id": "f846c1c5"
      },
      "outputs": [],
      "source": [
        "e[1][-1]='Shoes'"
      ]
    },
    {
      "cell_type": "code",
      "execution_count": null,
      "metadata": {
        "id": "690012ce",
        "outputId": "833b010e-7439-4c4c-b590-592b0dd0ee11"
      },
      "outputs": [
        {
          "data": {
            "text/plain": [
              "[['mango', 'apple', 'cherry'], ['Shirt', 'Pant', 'Shoes']]"
            ]
          },
          "execution_count": 237,
          "metadata": {},
          "output_type": "execute_result"
        }
      ],
      "source": [
        "e"
      ]
    },
    {
      "cell_type": "markdown",
      "source": [
        "#### List comprehension\n",
        "\n",
        "A Python list comprehension consists of brackets containing the expression, which is executed for each element along with the for loop to iterate over each element in the Python list. \n",
        "\n",
        "Python List comprehension provides a much more short syntax for creating a new list based on the values of an existing list.\n",
        "\n",
        "\n",
        "```\n",
        "Syntax\n",
        "\n",
        "newList = [ expression(element) for element in oldList if condition ] \n",
        "```\n",
        "\n",
        "![](https://i.imgur.com/KtxIwBo.png)"
      ],
      "metadata": {
        "id": "Gn6mn4wvnU_X"
      }
    },
    {
      "cell_type": "code",
      "source": [
        "num=[1,2,3,6,9,8,7,4,5,2,1,4,5,6,9,8,7]\n",
        "even=[]\n",
        "for i in num:\n",
        "    if i%2==0:\n",
        "        even.append(i)\n",
        "even\n"
      ],
      "metadata": {
        "id": "a-qmkPzv_Bcl",
        "colab": {
          "base_uri": "https://localhost:8080/"
        },
        "outputId": "7b9bbed0-2cfb-46b2-9e54-970a740a55ff"
      },
      "execution_count": null,
      "outputs": [
        {
          "output_type": "execute_result",
          "data": {
            "text/plain": [
              "[2, 6, 8, 4, 2, 4, 6, 8]"
            ]
          },
          "metadata": {},
          "execution_count": 2
        }
      ]
    },
    {
      "cell_type": "code",
      "source": [
        "even1=[i for i in num if i%2==0]\n",
        "even1"
      ],
      "metadata": {
        "colab": {
          "base_uri": "https://localhost:8080/"
        },
        "id": "VJg2uC_apakJ",
        "outputId": "5bdd2e8f-f79a-4b0c-fee1-737884fea726"
      },
      "execution_count": null,
      "outputs": [
        {
          "output_type": "execute_result",
          "data": {
            "text/plain": [
              "[2, 6, 8, 4, 2, 4, 6, 8]"
            ]
          },
          "metadata": {},
          "execution_count": 3
        }
      ]
    },
    {
      "cell_type": "code",
      "source": [
        "even_square=[i**2 for i in num if i%2==0]"
      ],
      "metadata": {
        "id": "qX6f3yeTpq8b"
      },
      "execution_count": null,
      "outputs": []
    },
    {
      "cell_type": "code",
      "source": [
        "even_square"
      ],
      "metadata": {
        "colab": {
          "base_uri": "https://localhost:8080/"
        },
        "id": "5KaIvdMVp_p_",
        "outputId": "abc806b1-2e72-472f-c3c5-ad435179fce8"
      },
      "execution_count": null,
      "outputs": [
        {
          "output_type": "execute_result",
          "data": {
            "text/plain": [
              "[4, 36, 64, 16, 4, 16, 36, 64]"
            ]
          },
          "metadata": {},
          "execution_count": 5
        }
      ]
    },
    {
      "cell_type": "code",
      "source": [
        "# Nested list comprehension\n",
        "list_list = [[j for j in range(4)] for i in range(3)]\n",
        " \n",
        "print(list_list)"
      ],
      "metadata": {
        "colab": {
          "base_uri": "https://localhost:8080/"
        },
        "id": "zb4kvW49qKnx",
        "outputId": "ff5a6aca-4de6-4aac-b134-529490e4a690"
      },
      "execution_count": null,
      "outputs": [
        {
          "output_type": "stream",
          "name": "stdout",
          "text": [
            "[[0, 1, 2, 3], [0, 1, 2, 3], [0, 1, 2, 3]]\n"
          ]
        }
      ]
    },
    {
      "cell_type": "code",
      "source": [
        "# multiple conditions\n",
        "\n",
        "quote='Courage is the power to let go of the familiar.'\n",
        "vowels='aeiou'\n",
        "vowels_list=[]\n",
        "for i in quote:\n",
        "    if i in vowels and i.islower():\n",
        "        vowels_list.append(i)\n"
      ],
      "metadata": {
        "id": "mSQkLFmiqoaz"
      },
      "execution_count": null,
      "outputs": []
    },
    {
      "cell_type": "code",
      "source": [
        "print(vowels_list)"
      ],
      "metadata": {
        "colab": {
          "base_uri": "https://localhost:8080/"
        },
        "id": "G3C3MvYHtXMj",
        "outputId": "382ce283-d044-4550-fd74-f216f59f9508"
      },
      "execution_count": null,
      "outputs": [
        {
          "output_type": "stream",
          "name": "stdout",
          "text": [
            "['o', 'u', 'a', 'e', 'i', 'e', 'o', 'e', 'o', 'e', 'o', 'o', 'e', 'a', 'i', 'i', 'a']\n"
          ]
        }
      ]
    },
    {
      "cell_type": "code",
      "source": [
        "vowels_list_comprehensive=[i for i in quote if i in vowels and i.islower()]"
      ],
      "metadata": {
        "id": "4AmtsKDAtaIn"
      },
      "execution_count": null,
      "outputs": []
    },
    {
      "cell_type": "code",
      "source": [
        "print(vowels_list_comprehensive)"
      ],
      "metadata": {
        "colab": {
          "base_uri": "https://localhost:8080/"
        },
        "id": "ljy2o1vWt0Xr",
        "outputId": "1fa2501b-40cc-45c5-958e-a1e3ab488a1a"
      },
      "execution_count": null,
      "outputs": [
        {
          "output_type": "stream",
          "name": "stdout",
          "text": [
            "['o', 'u', 'a', 'e', 'i', 'e', 'o', 'e', 'o', 'e', 'o', 'o', 'e', 'a', 'i', 'i', 'a']\n"
          ]
        }
      ]
    },
    {
      "cell_type": "code",
      "source": [
        "vowels_list_comprehensive==vowels_list"
      ],
      "metadata": {
        "colab": {
          "base_uri": "https://localhost:8080/"
        },
        "id": "YnfOuMuQuJ9C",
        "outputId": "e8ce53ce-95ed-428d-e6db-407ab92685a3"
      },
      "execution_count": null,
      "outputs": [
        {
          "output_type": "execute_result",
          "data": {
            "text/plain": [
              "True"
            ]
          },
          "metadata": {},
          "execution_count": 19
        }
      ]
    },
    {
      "cell_type": "code",
      "source": [
        "# Nested IF with List Comprehension\n",
        "num_list = [y for y in range(100) if y % 2 == 0 if y % 5 == 0]\n",
        "print(num_list)"
      ],
      "metadata": {
        "colab": {
          "base_uri": "https://localhost:8080/"
        },
        "id": "ik-JR9TquOeV",
        "outputId": "b2cdeda3-65dd-4368-facb-72a6cdb32325"
      },
      "execution_count": null,
      "outputs": [
        {
          "output_type": "stream",
          "name": "stdout",
          "text": [
            "[0, 10, 20, 30, 40, 50, 60, 70, 80, 90]\n"
          ]
        }
      ]
    },
    {
      "cell_type": "code",
      "source": [
        "#  if...else With List Comprehension\n",
        "\n",
        "obj = [\"Even\" if i%2==0 else \"Odd\" for i in range(10)]\n",
        "print(obj)"
      ],
      "metadata": {
        "colab": {
          "base_uri": "https://localhost:8080/"
        },
        "id": "xIh21MGFvAY0",
        "outputId": "0ea716d6-de2f-4248-8e72-b7ae966a70bb"
      },
      "execution_count": null,
      "outputs": [
        {
          "output_type": "stream",
          "name": "stdout",
          "text": [
            "['Even', 'Odd', 'Even', 'Odd', 'Even', 'Odd', 'Even', 'Odd', 'Even', 'Odd']\n"
          ]
        }
      ]
    },
    {
      "cell_type": "code",
      "source": [
        "x=[i[::-1] for i in ('Hello','Board Infinity')]"
      ],
      "metadata": {
        "id": "dTt2U0HnvR89"
      },
      "execution_count": null,
      "outputs": []
    },
    {
      "cell_type": "code",
      "source": [
        "x"
      ],
      "metadata": {
        "colab": {
          "base_uri": "https://localhost:8080/"
        },
        "id": "B3Ibq1z9xgWg",
        "outputId": "55d6bac8-3f35-4c67-a6a8-23a8e662d377"
      },
      "execution_count": null,
      "outputs": [
        {
          "output_type": "execute_result",
          "data": {
            "text/plain": [
              "['olleH', 'ytinifnI draoB']"
            ]
          },
          "metadata": {},
          "execution_count": 25
        }
      ]
    },
    {
      "cell_type": "markdown",
      "source": [
        "### Sets\n",
        "\n",
        "![](https://i.imgur.com/5jcF0Vz.jpg)\n",
        "\n",
        "\n",
        "A set is an unordered collection with no duplicate elements. Basic uses include membership testing and eliminating duplicate entries. Set objects also support mathematical operations like union, intersection, difference, and symmetric difference.\n",
        "\n",
        "Curly braces or the set() function can be used to create sets. \n",
        "\n",
        "**Note:** to create an empty set you have to use set(), not {}; the latter creates an empty dictionary, a data structure that we discuss in the next section.\n",
        "\n"
      ],
      "metadata": {
        "id": "LBsY-ZO3zblq"
      }
    },
    {
      "cell_type": "markdown",
      "source": [
        "#### Set and Set Methods"
      ],
      "metadata": {
        "id": "mlo9B2BT9psD"
      }
    },
    {
      "cell_type": "code",
      "execution_count": null,
      "metadata": {
        "id": "c58f8b09"
      },
      "outputs": [],
      "source": [
        "days={'Mon','Tue','Wed','Thur','Fri','Sat','Sun'}            # Create a set"
      ]
    },
    {
      "cell_type": "code",
      "execution_count": null,
      "metadata": {
        "id": "16669113",
        "outputId": "88f999e5-1264-4b87-ff29-762c5c74c9a5",
        "colab": {
          "base_uri": "https://localhost:8080/"
        }
      },
      "outputs": [
        {
          "output_type": "execute_result",
          "data": {
            "text/plain": [
              "{'Fri', 'Mon', 'Sat', 'Sun', 'Thur', 'Tue', 'Wed'}"
            ]
          },
          "metadata": {},
          "execution_count": 27
        }
      ],
      "source": [
        "days                                                         # order will changed when we display"
      ]
    },
    {
      "cell_type": "code",
      "execution_count": null,
      "metadata": {
        "id": "929a178c",
        "outputId": "722a8140-7c4a-47ba-9157-16672c23d6ce",
        "colab": {
          "base_uri": "https://localhost:8080/"
        }
      },
      "outputs": [
        {
          "output_type": "stream",
          "name": "stdout",
          "text": [
            "{'Tue', 'Wed', 'Fri', 'Sun', 'Sat', 'Thur', 'Mon'}\n"
          ]
        }
      ],
      "source": [
        "print(days)                                                  # order will changed when we print"
      ]
    },
    {
      "cell_type": "code",
      "execution_count": null,
      "metadata": {
        "id": "a85c75cf"
      },
      "outputs": [],
      "source": [
        "days={'Mon','Tue','Wed','Thur','Fri','Sat','Sun','Mon'}       # set will not allow duplication"
      ]
    },
    {
      "cell_type": "code",
      "execution_count": null,
      "metadata": {
        "id": "86ce3dd5",
        "outputId": "2774da04-4db5-4a7f-e01a-2ec598dbc22f",
        "colab": {
          "base_uri": "https://localhost:8080/"
        }
      },
      "outputs": [
        {
          "output_type": "execute_result",
          "data": {
            "text/plain": [
              "{'Fri', 'Mon', 'Sat', 'Sun', 'Thur', 'Tue', 'Wed'}"
            ]
          },
          "metadata": {},
          "execution_count": 29
        }
      ],
      "source": [
        "days"
      ]
    },
    {
      "cell_type": "code",
      "source": [],
      "metadata": {
        "id": "v-nHv00C4wAH"
      },
      "execution_count": null,
      "outputs": []
    },
    {
      "cell_type": "code",
      "execution_count": null,
      "metadata": {
        "id": "cea5c6ac"
      },
      "outputs": [],
      "source": [
        "# to find out unique even numbers in ascending order\n",
        "num=[1,2,3,5,9,2,6,9,4]\n",
        "even=[]\n",
        "for i in num:\n",
        "    if i%2==0:\n",
        "        even.append(i)\n",
        "        "
      ]
    },
    {
      "cell_type": "code",
      "execution_count": null,
      "metadata": {
        "id": "8e33e198",
        "outputId": "813b6793-cd8f-4d1c-835e-82a373647b2a"
      },
      "outputs": [
        {
          "data": {
            "text/plain": [
              "[2, 2, 6, 4]"
            ]
          },
          "execution_count": 262,
          "metadata": {},
          "output_type": "execute_result"
        }
      ],
      "source": [
        "even"
      ]
    },
    {
      "cell_type": "code",
      "execution_count": null,
      "metadata": {
        "id": "5655c2cc"
      },
      "outputs": [],
      "source": [
        "even=set(even)"
      ]
    },
    {
      "cell_type": "code",
      "execution_count": null,
      "metadata": {
        "id": "d0c788c3",
        "outputId": "6e5c72cb-470a-42dd-fd9a-8e39e199c1eb"
      },
      "outputs": [
        {
          "data": {
            "text/plain": [
              "{2, 4, 6}"
            ]
          },
          "execution_count": 264,
          "metadata": {},
          "output_type": "execute_result"
        }
      ],
      "source": [
        "even"
      ]
    },
    {
      "cell_type": "code",
      "execution_count": null,
      "metadata": {
        "id": "2b4b140f"
      },
      "outputs": [],
      "source": [
        "even=list(even)"
      ]
    },
    {
      "cell_type": "code",
      "execution_count": null,
      "metadata": {
        "id": "30e05309",
        "outputId": "eb92093f-5fde-44df-8db9-984519c13946"
      },
      "outputs": [
        {
          "data": {
            "text/plain": [
              "[2, 4, 6]"
            ]
          },
          "execution_count": 266,
          "metadata": {},
          "output_type": "execute_result"
        }
      ],
      "source": [
        "even"
      ]
    },
    {
      "cell_type": "code",
      "source": [
        "# Set Items - Data Types\n",
        "# Set items can be of any data type:\n",
        "\n",
        "\n",
        "set1 = {\"apple\", \"banana\", \"cherry\"}\n",
        "set2 = {1, 5, 7, 9, 3}\n",
        "set3 = {True, False, False}\n",
        "\n",
        "# A set can contain different data types:\n",
        "\n",
        "set1 = {\"abc\", 34, True, 40, \"male\"}"
      ],
      "metadata": {
        "id": "57Dg7zJ1481N"
      },
      "execution_count": null,
      "outputs": []
    },
    {
      "cell_type": "code",
      "execution_count": null,
      "metadata": {
        "id": "e8c53ae9"
      },
      "outputs": [],
      "source": [
        "set_num=set((1,20,13,4,15,6,1,15,20))"
      ]
    },
    {
      "cell_type": "code",
      "execution_count": null,
      "metadata": {
        "id": "9241eb6c",
        "outputId": "df2a5064-5600-4d0c-e8b5-7d7dff754227"
      },
      "outputs": [
        {
          "data": {
            "text/plain": [
              "{1, 4, 6, 13, 15, 20}"
            ]
          },
          "execution_count": 272,
          "metadata": {},
          "output_type": "execute_result"
        }
      ],
      "source": [
        "set_num"
      ]
    },
    {
      "cell_type": "code",
      "execution_count": null,
      "metadata": {
        "id": "9fe74092"
      },
      "outputs": [],
      "source": [
        "set_num.add(21)             # to add a specific element in the set"
      ]
    },
    {
      "cell_type": "code",
      "execution_count": null,
      "metadata": {
        "id": "4928315e",
        "outputId": "8a667172-9758-4611-9a7f-9182243503d0"
      },
      "outputs": [
        {
          "data": {
            "text/plain": [
              "{1, 4, 6, 13, 15, 20, 21}"
            ]
          },
          "execution_count": 274,
          "metadata": {},
          "output_type": "execute_result"
        }
      ],
      "source": [
        "set_num"
      ]
    },
    {
      "cell_type": "code",
      "execution_count": null,
      "metadata": {
        "id": "1e6f51d0",
        "outputId": "9a907c05-9fa5-4ddc-ef2f-866287fa62af"
      },
      "outputs": [
        {
          "data": {
            "text/plain": [
              "4"
            ]
          },
          "execution_count": 276,
          "metadata": {},
          "output_type": "execute_result"
        }
      ],
      "source": [
        "set_num.pop()             # to remove the random element from the set"
      ]
    },
    {
      "cell_type": "code",
      "execution_count": null,
      "metadata": {
        "id": "1b88b743",
        "outputId": "c529d534-12b6-48b2-ae69-e613f84bc998"
      },
      "outputs": [
        {
          "data": {
            "text/plain": [
              "{'Fri', 'Mon', 'Sat', 'Sun', 'Thur', 'Tue', 'Wed'}"
            ]
          },
          "execution_count": 277,
          "metadata": {},
          "output_type": "execute_result"
        }
      ],
      "source": [
        "days"
      ]
    },
    {
      "cell_type": "code",
      "execution_count": null,
      "metadata": {
        "id": "ffb59bb7",
        "outputId": "402b8473-c70b-483b-f49e-7c043b39f2b1"
      },
      "outputs": [
        {
          "data": {
            "text/plain": [
              "'Sat'"
            ]
          },
          "execution_count": 278,
          "metadata": {},
          "output_type": "execute_result"
        }
      ],
      "source": [
        "days.pop()"
      ]
    },
    {
      "cell_type": "code",
      "execution_count": null,
      "metadata": {
        "id": "118fc301"
      },
      "outputs": [],
      "source": [
        "days.remove('Mon')              # to remove a specific element from the set"
      ]
    },
    {
      "cell_type": "code",
      "execution_count": null,
      "metadata": {
        "id": "f73227cc",
        "outputId": "ea1ac97e-a90e-4cef-d2ef-80acf6f62e8a"
      },
      "outputs": [
        {
          "data": {
            "text/plain": [
              "{'Fri', 'Sun', 'Thur', 'Tue', 'Wed'}"
            ]
          },
          "execution_count": 280,
          "metadata": {},
          "output_type": "execute_result"
        }
      ],
      "source": [
        "days"
      ]
    },
    {
      "cell_type": "code",
      "source": [
        "my_set = {1, 3}"
      ],
      "metadata": {
        "id": "bCIbA_pl5ugp"
      },
      "execution_count": null,
      "outputs": []
    },
    {
      "cell_type": "code",
      "source": [
        "# add multiple elements\n",
        "my_set.update([2, 3, 4])\n",
        "print(my_set)"
      ],
      "metadata": {
        "colab": {
          "base_uri": "https://localhost:8080/"
        },
        "id": "TzLRfcLT5x0Y",
        "outputId": "bb11fcd2-a96e-4554-9b19-e757aff2bb4a"
      },
      "execution_count": null,
      "outputs": [
        {
          "output_type": "stream",
          "name": "stdout",
          "text": [
            "{1, 2, 3, 4}\n"
          ]
        }
      ]
    },
    {
      "cell_type": "code",
      "source": [
        "# add list and set\n",
        "my_set.update([4, 5], {1, 6, 8})\n",
        "print(my_set)"
      ],
      "metadata": {
        "colab": {
          "base_uri": "https://localhost:8080/"
        },
        "id": "4CJwlHaz5x3b",
        "outputId": "0952e006-9091-438b-a64d-b163c9a387ce"
      },
      "execution_count": null,
      "outputs": [
        {
          "output_type": "stream",
          "name": "stdout",
          "text": [
            "{1, 2, 3, 4, 5, 6, 8}\n"
          ]
        }
      ]
    },
    {
      "cell_type": "code",
      "source": [
        "# discard an element\n",
        "my_set.discard(4)\n",
        "print(my_set)"
      ],
      "metadata": {
        "colab": {
          "base_uri": "https://localhost:8080/"
        },
        "id": "UJYZOngI5x7I",
        "outputId": "824842a7-5a20-4e38-d721-8b416759e3af"
      },
      "execution_count": null,
      "outputs": [
        {
          "output_type": "stream",
          "name": "stdout",
          "text": [
            "{1, 2, 3, 5, 6, 8}\n"
          ]
        }
      ]
    },
    {
      "cell_type": "code",
      "source": [
        "# remove an element\n",
        "my_set.remove(6)\n",
        "print(my_set)"
      ],
      "metadata": {
        "colab": {
          "base_uri": "https://localhost:8080/"
        },
        "id": "NXU-Lhot5x_F",
        "outputId": "533df7b4-1592-4bf4-888d-f712b3d2c34e"
      },
      "execution_count": null,
      "outputs": [
        {
          "output_type": "stream",
          "name": "stdout",
          "text": [
            "{1, 2, 3, 5, 8}\n"
          ]
        }
      ]
    },
    {
      "cell_type": "code",
      "source": [
        "# discard an element\n",
        "# not present in my_set\n",
        "my_set.discard(6)\n",
        "print(my_set)"
      ],
      "metadata": {
        "colab": {
          "base_uri": "https://localhost:8080/"
        },
        "id": "LOOJxir95yC1",
        "outputId": "e4233b08-c78b-431d-ff50-c71cf45f0e22"
      },
      "execution_count": null,
      "outputs": [
        {
          "output_type": "stream",
          "name": "stdout",
          "text": [
            "{1, 3, 5, 8}\n"
          ]
        }
      ]
    },
    {
      "cell_type": "code",
      "source": [
        "# remove an element\n",
        "# not present in my_set\n",
        "# you will get an error.\n",
        "# Output: KeyError\n",
        "\n",
        "my_set.remove(6)"
      ],
      "metadata": {
        "colab": {
          "base_uri": "https://localhost:8080/",
          "height": 201
        },
        "id": "cEUXhp6v5yGw",
        "outputId": "5832a607-4184-4660-9ac0-63af49c84382"
      },
      "execution_count": null,
      "outputs": [
        {
          "output_type": "error",
          "ename": "KeyError",
          "evalue": "ignored",
          "traceback": [
            "\u001b[0;31m---------------------------------------------------------------------------\u001b[0m",
            "\u001b[0;31mKeyError\u001b[0m                                  Traceback (most recent call last)",
            "\u001b[0;32m<ipython-input-38-d49d001854d1>\u001b[0m in \u001b[0;36m<module>\u001b[0;34m\u001b[0m\n\u001b[1;32m      4\u001b[0m \u001b[0;31m# Output: KeyError\u001b[0m\u001b[0;34m\u001b[0m\u001b[0;34m\u001b[0m\u001b[0;34m\u001b[0m\u001b[0m\n\u001b[1;32m      5\u001b[0m \u001b[0;34m\u001b[0m\u001b[0m\n\u001b[0;32m----> 6\u001b[0;31m \u001b[0mmy_set\u001b[0m\u001b[0;34m.\u001b[0m\u001b[0mremove\u001b[0m\u001b[0;34m(\u001b[0m\u001b[0;36m6\u001b[0m\u001b[0;34m)\u001b[0m\u001b[0;34m\u001b[0m\u001b[0;34m\u001b[0m\u001b[0m\n\u001b[0m",
            "\u001b[0;31mKeyError\u001b[0m: 6"
          ]
        }
      ]
    },
    {
      "cell_type": "code",
      "source": [
        "# clear my_set\n",
        "my_set.clear()\n",
        "print(my_set)"
      ],
      "metadata": {
        "colab": {
          "base_uri": "https://localhost:8080/"
        },
        "id": "y7yR3-2T5yPf",
        "outputId": "2f62fe21-b21d-469a-cda0-eef6a78298ce"
      },
      "execution_count": null,
      "outputs": [
        {
          "output_type": "stream",
          "name": "stdout",
          "text": [
            "set()\n"
          ]
        }
      ]
    },
    {
      "cell_type": "markdown",
      "source": [
        "#### Set Operations\n",
        "\n",
        "Sets can be used to carry out mathematical set operations like union, intersection, difference and symmetric difference. We can do this with operators or methods."
      ],
      "metadata": {
        "id": "TgCIzSUf5eIs"
      }
    },
    {
      "cell_type": "code",
      "execution_count": null,
      "metadata": {
        "id": "53072de6"
      },
      "outputs": [],
      "source": [
        "set_A={1,2,5,6}\n",
        "set_B={1,2,7,8}"
      ]
    },
    {
      "cell_type": "markdown",
      "source": [
        "##### Set Union\n",
        "Union of set_A and set_B is a set of all elements from both sets.\n",
        "\n",
        "Union is performed using | operator. Same can be accomplished using the union() method."
      ],
      "metadata": {
        "id": "5FZ5oNCG7Fu8"
      }
    },
    {
      "cell_type": "code",
      "execution_count": null,
      "metadata": {
        "id": "b05e46d3",
        "outputId": "561178dc-e3b5-4afc-f88c-3d84cfe3bc30"
      },
      "outputs": [
        {
          "data": {
            "text/plain": [
              "{1, 2, 5, 6, 7, 8}"
            ]
          },
          "execution_count": 283,
          "metadata": {},
          "output_type": "execute_result"
        }
      ],
      "source": [
        "set_A.union(set_B)"
      ]
    },
    {
      "cell_type": "code",
      "execution_count": null,
      "metadata": {
        "id": "43f5558e",
        "outputId": "9c56109a-c02d-402a-bc68-d96213b9696e"
      },
      "outputs": [
        {
          "data": {
            "text/plain": [
              "{1, 2, 5, 6, 7, 8}"
            ]
          },
          "execution_count": 285,
          "metadata": {},
          "output_type": "execute_result"
        }
      ],
      "source": [
        "set_A | set_B # Union"
      ]
    },
    {
      "cell_type": "markdown",
      "source": [
        "##### Set Intersection\n",
        "intersection of A and B is a set of elements that are common in both the sets.\n",
        "\n",
        "Intersection is performed using & operator. Same can be accomplished using the intersection() method."
      ],
      "metadata": {
        "id": "owNUe_MW72oU"
      }
    },
    {
      "cell_type": "code",
      "execution_count": null,
      "metadata": {
        "id": "2dedfe17",
        "outputId": "4b73485a-a3f6-41f8-c1b2-a392c8355901"
      },
      "outputs": [
        {
          "data": {
            "text/plain": [
              "{1, 2}"
            ]
          },
          "execution_count": 282,
          "metadata": {},
          "output_type": "execute_result"
        }
      ],
      "source": [
        "set_A.intersection(set_B)"
      ]
    },
    {
      "cell_type": "code",
      "execution_count": null,
      "metadata": {
        "id": "8cf66831",
        "outputId": "7d10d3ec-7ceb-4317-e9e6-c3a21a1f6273"
      },
      "outputs": [
        {
          "data": {
            "text/plain": [
              "{1, 2}"
            ]
          },
          "execution_count": 284,
          "metadata": {},
          "output_type": "execute_result"
        }
      ],
      "source": [
        "set_A & set_B   # Intesection"
      ]
    },
    {
      "cell_type": "markdown",
      "source": [
        "##### Set Difference\n",
        "Difference of the set B from set A(A - B) is a set of elements that are only in A but not in B. Similarly, B - A is a set of elements in B but not in A.\n",
        "\n",
        "Difference is performed using - operator. Same can be accomplished using the difference() method."
      ],
      "metadata": {
        "id": "3TBWgjHg8TIi"
      }
    },
    {
      "cell_type": "code",
      "execution_count": null,
      "metadata": {
        "id": "067e536f",
        "outputId": "01c3525d-d2f6-4d0e-ee4a-06698467dce4"
      },
      "outputs": [
        {
          "data": {
            "text/plain": [
              "{5, 6}"
            ]
          },
          "execution_count": 286,
          "metadata": {},
          "output_type": "execute_result"
        }
      ],
      "source": [
        "set_A.difference(set_B)"
      ]
    },
    {
      "cell_type": "code",
      "execution_count": null,
      "metadata": {
        "id": "d07b7420",
        "outputId": "646f8ada-e773-4deb-a035-e35967e19202"
      },
      "outputs": [
        {
          "data": {
            "text/plain": [
              "{7, 8}"
            ]
          },
          "execution_count": 287,
          "metadata": {},
          "output_type": "execute_result"
        }
      ],
      "source": [
        "set_B.difference(set_A)"
      ]
    },
    {
      "cell_type": "code",
      "execution_count": null,
      "metadata": {
        "id": "84963d13",
        "outputId": "5de99776-d358-4e18-bf12-0ab24239f184"
      },
      "outputs": [
        {
          "data": {
            "text/plain": [
              "{5, 6}"
            ]
          },
          "execution_count": 288,
          "metadata": {},
          "output_type": "execute_result"
        }
      ],
      "source": [
        "set_A-(set_B)"
      ]
    },
    {
      "cell_type": "code",
      "execution_count": null,
      "metadata": {
        "id": "c05b1008",
        "outputId": "5b971010-3b78-4280-aa32-64e5d063fecb"
      },
      "outputs": [
        {
          "data": {
            "text/plain": [
              "{7, 8}"
            ]
          },
          "execution_count": 290,
          "metadata": {},
          "output_type": "execute_result"
        }
      ],
      "source": [
        "set_B-(set_A)"
      ]
    },
    {
      "cell_type": "markdown",
      "source": [
        "##### Set Symmetric Difference\n",
        "Symmetric Difference of A and B is a set of elements in A and B but not in both (excluding the intersection).\n",
        "\n",
        "Symmetric difference is performed using ^ operator. Same can be accomplished using the method symmetric_difference()."
      ],
      "metadata": {
        "id": "m7YQvsLW8kwk"
      }
    },
    {
      "cell_type": "code",
      "execution_count": null,
      "metadata": {
        "id": "8c0dc4a2",
        "outputId": "ee183c7f-cd14-4d76-f5f7-000743f343db"
      },
      "outputs": [
        {
          "data": {
            "text/plain": [
              "{5, 6, 7, 8}"
            ]
          },
          "execution_count": 291,
          "metadata": {},
          "output_type": "execute_result"
        }
      ],
      "source": [
        "set_A.symmetric_difference(set_B)"
      ]
    },
    {
      "cell_type": "code",
      "execution_count": null,
      "metadata": {
        "id": "0abdbc4b",
        "outputId": "39ba828d-b034-4a80-be3e-e37fd4d5ed41"
      },
      "outputs": [
        {
          "data": {
            "text/plain": [
              "{5, 6, 7, 8}"
            ]
          },
          "execution_count": 292,
          "metadata": {},
          "output_type": "execute_result"
        }
      ],
      "source": [
        "set_A^(set_B)"
      ]
    },
    {
      "cell_type": "markdown",
      "source": [
        "#### Frozenset\n",
        "\n",
        "Frozenset is a new class that has the characteristics of a set, but its elements cannot be changed once assigned. While tuples are immutable lists, frozensets are immutable sets.\n",
        "\n",
        "Sets being mutable are unhashable, so they can't be used as dictionary keys. On the other hand, frozensets are hashable and can be used as keys to a dictionary.\n",
        "\n",
        "Frozensets can be created using the frozenset() function.\n",
        "\n",
        "This data type supports methods like copy(), difference(), intersection(), isdisjoint(), issubset(), issuperset(), symmetric_difference() and union(). \n",
        "\n",
        "Being immutable, it does not have methods that add or remove elements."
      ],
      "metadata": {
        "id": "wB8-KHa-8_72"
      }
    },
    {
      "cell_type": "code",
      "execution_count": null,
      "metadata": {
        "id": "d554c155"
      },
      "outputs": [],
      "source": [
        "# Frozensets\n",
        "# initialize A and B\n",
        "A = frozenset([1, 2, 3, 4])\n",
        "B = frozenset([3, 4, 5, 6])"
      ]
    },
    {
      "cell_type": "code",
      "source": [
        "A.isdisjoint(B)"
      ],
      "metadata": {
        "colab": {
          "base_uri": "https://localhost:8080/"
        },
        "id": "ci7pX-Y49QQc",
        "outputId": "33de011e-61e4-4c00-ccf4-3a1bab49d749"
      },
      "execution_count": null,
      "outputs": [
        {
          "output_type": "execute_result",
          "data": {
            "text/plain": [
              "False"
            ]
          },
          "metadata": {},
          "execution_count": 42
        }
      ]
    },
    {
      "cell_type": "code",
      "source": [
        "A.difference(B)"
      ],
      "metadata": {
        "colab": {
          "base_uri": "https://localhost:8080/"
        },
        "id": "FOKesEz29Tx3",
        "outputId": "e91e0e9f-76bc-4c6a-c512-67394f7b0b7b"
      },
      "execution_count": null,
      "outputs": [
        {
          "output_type": "execute_result",
          "data": {
            "text/plain": [
              "frozenset({1, 2})"
            ]
          },
          "metadata": {},
          "execution_count": 43
        }
      ]
    },
    {
      "cell_type": "code",
      "source": [
        "A | B"
      ],
      "metadata": {
        "colab": {
          "base_uri": "https://localhost:8080/"
        },
        "id": "3S_3q6V29Wnz",
        "outputId": "18e0d209-1961-405b-fb4a-95fab4c926a6"
      },
      "execution_count": null,
      "outputs": [
        {
          "output_type": "execute_result",
          "data": {
            "text/plain": [
              "frozenset({1, 2, 3, 4, 5, 6})"
            ]
          },
          "metadata": {},
          "execution_count": 44
        }
      ]
    },
    {
      "cell_type": "code",
      "source": [
        "A.add(3)"
      ],
      "metadata": {
        "colab": {
          "base_uri": "https://localhost:8080/",
          "height": 166
        },
        "id": "_MAuUdaa9Z1Q",
        "outputId": "186b5454-9626-4bef-e4c6-5bfa2e042c1f"
      },
      "execution_count": null,
      "outputs": [
        {
          "output_type": "error",
          "ename": "AttributeError",
          "evalue": "ignored",
          "traceback": [
            "\u001b[0;31m---------------------------------------------------------------------------\u001b[0m",
            "\u001b[0;31mAttributeError\u001b[0m                            Traceback (most recent call last)",
            "\u001b[0;32m<ipython-input-45-a0e0b3f02a4a>\u001b[0m in \u001b[0;36m<module>\u001b[0;34m\u001b[0m\n\u001b[0;32m----> 1\u001b[0;31m \u001b[0mA\u001b[0m\u001b[0;34m.\u001b[0m\u001b[0madd\u001b[0m\u001b[0;34m(\u001b[0m\u001b[0;36m3\u001b[0m\u001b[0;34m)\u001b[0m\u001b[0;34m\u001b[0m\u001b[0;34m\u001b[0m\u001b[0m\n\u001b[0m",
            "\u001b[0;31mAttributeError\u001b[0m: 'frozenset' object has no attribute 'add'"
          ]
        }
      ]
    },
    {
      "cell_type": "code",
      "source": [],
      "metadata": {
        "id": "ncXdUHrG9cTZ"
      },
      "execution_count": null,
      "outputs": []
    },
    {
      "cell_type": "markdown",
      "source": [
        "### Tuple\n",
        "\n",
        "![](https://i.imgur.com/TKNnJub.jpg)\n",
        "\n",
        "A tuple in Python is similar to a list. The difference between the two is that we cannot change the elements of a tuple once it is assigned whereas we can change the elements of a list.\n",
        "\n",
        "A tuple is created by placing all the items (elements) inside parentheses (), separated by commas. The parentheses are optional, however, it is a good practice to use them.\n",
        "\n",
        "A tuple can have any number of items and they may be of different types (integer, float, list, string, etc.)."
      ],
      "metadata": {
        "id": "298qQPanF5AR"
      }
    },
    {
      "cell_type": "code",
      "execution_count": null,
      "metadata": {
        "id": "4663a6c3"
      },
      "outputs": [],
      "source": [
        "a=()"
      ]
    },
    {
      "cell_type": "code",
      "execution_count": null,
      "metadata": {
        "id": "aff9a8a6",
        "outputId": "8909c68a-5dfc-4b6c-bf17-910c97b5bdb8"
      },
      "outputs": [
        {
          "data": {
            "text/plain": [
              "tuple"
            ]
          },
          "execution_count": 240,
          "metadata": {},
          "output_type": "execute_result"
        }
      ],
      "source": [
        "type(a)"
      ]
    },
    {
      "cell_type": "markdown",
      "source": [
        "Creating a tuple with one element is a bit tricky.\n",
        "\n",
        "Having one element within parentheses is not enough. We will need a trailing comma to indicate that it is, in fact, a tuple."
      ],
      "metadata": {
        "id": "SsAqssaiHZHp"
      }
    },
    {
      "cell_type": "code",
      "source": [
        "b=(1)\n",
        "type(b)"
      ],
      "metadata": {
        "id": "f2SyNmNiHIpW",
        "colab": {
          "base_uri": "https://localhost:8080/"
        },
        "outputId": "c22b77db-be02-4d87-fca1-62cde690e40b"
      },
      "execution_count": null,
      "outputs": [
        {
          "output_type": "execute_result",
          "data": {
            "text/plain": [
              "int"
            ]
          },
          "metadata": {},
          "execution_count": 1
        }
      ]
    },
    {
      "cell_type": "code",
      "source": [
        "c=('hello')\n",
        "type(c)"
      ],
      "metadata": {
        "colab": {
          "base_uri": "https://localhost:8080/"
        },
        "id": "muUpgrRWR4lU",
        "outputId": "8e516852-5bcc-4b3d-b3c7-5e31d1416b03"
      },
      "execution_count": null,
      "outputs": [
        {
          "output_type": "execute_result",
          "data": {
            "text/plain": [
              "str"
            ]
          },
          "metadata": {},
          "execution_count": 2
        }
      ]
    },
    {
      "cell_type": "code",
      "source": [
        "b=(1,)\n",
        "type(b)"
      ],
      "metadata": {
        "id": "klQHstjYSBYe",
        "colab": {
          "base_uri": "https://localhost:8080/"
        },
        "outputId": "f2e8848b-d0fd-45cd-a582-40731fa62593"
      },
      "execution_count": null,
      "outputs": [
        {
          "output_type": "execute_result",
          "data": {
            "text/plain": [
              "tuple"
            ]
          },
          "metadata": {},
          "execution_count": 3
        }
      ]
    },
    {
      "cell_type": "code",
      "source": [
        "c=('hello',)\n",
        "type(c)"
      ],
      "metadata": {
        "colab": {
          "base_uri": "https://localhost:8080/"
        },
        "id": "TcC5FaKdSUyz",
        "outputId": "dda1935d-1537-4044-dbc1-d036cefc10ba"
      },
      "execution_count": null,
      "outputs": [
        {
          "output_type": "execute_result",
          "data": {
            "text/plain": [
              "tuple"
            ]
          },
          "metadata": {},
          "execution_count": 4
        }
      ]
    },
    {
      "cell_type": "code",
      "source": [
        "location=(56.5,78.9)    #Geographical Coordinates\n",
        "type(location)"
      ],
      "metadata": {
        "id": "UyzXg403SaOg",
        "colab": {
          "base_uri": "https://localhost:8080/"
        },
        "outputId": "5d67a980-14cf-4c70-bd4c-7ee99533c64b"
      },
      "execution_count": null,
      "outputs": [
        {
          "output_type": "execute_result",
          "data": {
            "text/plain": [
              "tuple"
            ]
          },
          "metadata": {},
          "execution_count": 5
        }
      ]
    },
    {
      "cell_type": "code",
      "source": [
        "location1=56.5,78.9    # A tuple can also be created without using parentheses. This is known as tuple packing.\n",
        "type(location1)"
      ],
      "metadata": {
        "colab": {
          "base_uri": "https://localhost:8080/"
        },
        "id": "w9jPelD0Tsh1",
        "outputId": "6040b4c3-68f3-4b22-a758-617975aa6e8e"
      },
      "execution_count": null,
      "outputs": [
        {
          "output_type": "execute_result",
          "data": {
            "text/plain": [
              "tuple"
            ]
          },
          "metadata": {},
          "execution_count": 6
        }
      ]
    },
    {
      "cell_type": "code",
      "source": [
        "# tuple with mixed datatypes\n",
        "my_tuple = (1, \"Hello\", 3.4)\n",
        "print(my_tuple)"
      ],
      "metadata": {
        "colab": {
          "base_uri": "https://localhost:8080/"
        },
        "id": "Qy8TAIPPT1t_",
        "outputId": "dc3e5cbe-38b2-49fc-a03f-4405d96d6f0c"
      },
      "execution_count": null,
      "outputs": [
        {
          "output_type": "stream",
          "name": "stdout",
          "text": [
            "(1, 'Hello', 3.4)\n"
          ]
        }
      ]
    },
    {
      "cell_type": "code",
      "source": [
        " # Tuples may be nest \n",
        " t = 12345, 54321, 'hello!'\n",
        " u = t, (1, 2, 3, 4, 5)\n",
        " type(u)"
      ],
      "metadata": {
        "colab": {
          "base_uri": "https://localhost:8080/"
        },
        "id": "uD-o6Z5PUK55",
        "outputId": "9e0fd632-ec29-44e4-d25d-491a2fb38e28"
      },
      "execution_count": null,
      "outputs": [
        {
          "output_type": "execute_result",
          "data": {
            "text/plain": [
              "tuple"
            ]
          },
          "metadata": {},
          "execution_count": 10
        }
      ]
    },
    {
      "cell_type": "code",
      "source": [
        "u"
      ],
      "metadata": {
        "colab": {
          "base_uri": "https://localhost:8080/"
        },
        "id": "Dnh07aKGUdHP",
        "outputId": "3e127a3d-fd8f-48d7-ccc4-c916168bd9b2"
      },
      "execution_count": null,
      "outputs": [
        {
          "output_type": "execute_result",
          "data": {
            "text/plain": [
              "((12345, 54321, 'hello!'), (1, 2, 3, 4, 5))"
            ]
          },
          "metadata": {},
          "execution_count": 11
        }
      ]
    },
    {
      "cell_type": "code",
      "source": [
        "location_list=[56.5,78.9]\n",
        "location_list[0]=60.0\n",
        "location_list"
      ],
      "metadata": {
        "colab": {
          "base_uri": "https://localhost:8080/"
        },
        "id": "WxRbQpCfUm5G",
        "outputId": "7f00bb10-781a-4535-e3c1-5ecbaabe1046"
      },
      "execution_count": null,
      "outputs": [
        {
          "output_type": "execute_result",
          "data": {
            "text/plain": [
              "[60.0, 78.9]"
            ]
          },
          "metadata": {},
          "execution_count": 12
        }
      ]
    },
    {
      "cell_type": "code",
      "source": [
        "# Tuples are immutable\n",
        "\n",
        "location_tuple=56.5,78.9\n",
        "location_tuple[0]=60.0\n",
        "location_tuple"
      ],
      "metadata": {
        "colab": {
          "base_uri": "https://localhost:8080/",
          "height": 200
        },
        "id": "ZQxfx5hLU7iz",
        "outputId": "df2c01e6-bc7e-4147-91d1-ad9562f0ba34"
      },
      "execution_count": null,
      "outputs": [
        {
          "output_type": "error",
          "ename": "TypeError",
          "evalue": "ignored",
          "traceback": [
            "\u001b[0;31m---------------------------------------------------------------------------\u001b[0m",
            "\u001b[0;31mTypeError\u001b[0m                                 Traceback (most recent call last)",
            "\u001b[0;32m<ipython-input-13-8de98f371ec0>\u001b[0m in \u001b[0;36m<module>\u001b[0;34m\u001b[0m\n\u001b[1;32m      1\u001b[0m \u001b[0mlocation_tuple\u001b[0m\u001b[0;34m=\u001b[0m\u001b[0;36m56.5\u001b[0m\u001b[0;34m,\u001b[0m\u001b[0;36m78.9\u001b[0m\u001b[0;34m\u001b[0m\u001b[0;34m\u001b[0m\u001b[0m\n\u001b[0;32m----> 2\u001b[0;31m \u001b[0mlocation_tuple\u001b[0m\u001b[0;34m[\u001b[0m\u001b[0;36m0\u001b[0m\u001b[0;34m]\u001b[0m\u001b[0;34m=\u001b[0m\u001b[0;36m60.0\u001b[0m\u001b[0;34m\u001b[0m\u001b[0;34m\u001b[0m\u001b[0m\n\u001b[0m\u001b[1;32m      3\u001b[0m \u001b[0mlocation_tuple\u001b[0m\u001b[0;34m\u001b[0m\u001b[0;34m\u001b[0m\u001b[0m\n",
            "\u001b[0;31mTypeError\u001b[0m: 'tuple' object does not support item assignment"
          ]
        }
      ]
    },
    {
      "cell_type": "markdown",
      "source": [
        "#### Tuple slicing and tuple operations\n",
        "\n",
        "We can use the index operator [] to access an item in a tuple, where the index starts from 0.\n",
        "\n",
        "So, a tuple having 6 elements will have indices from 0 to 5. Trying to access an index outside of the tuple index range(6,7,... in this example) will raise an IndexError.\n",
        "\n",
        "The index must be an integer, so we cannot use float or other types. This will result in TypeError.\n",
        "\n",
        "Likewise, nested tuples are accessed using nested indexing, "
      ],
      "metadata": {
        "id": "RAyoNWdMVvUd"
      }
    },
    {
      "cell_type": "code",
      "source": [
        "color_code=(110,25,255)   #RGB color Codes"
      ],
      "metadata": {
        "id": "t8t9fnaFV-pE"
      },
      "execution_count": null,
      "outputs": []
    },
    {
      "cell_type": "code",
      "source": [
        "green_col_code=color_code[1]                    # Grabing an element with index"
      ],
      "metadata": {
        "id": "vNLRc-80WSEF"
      },
      "execution_count": null,
      "outputs": []
    },
    {
      "cell_type": "code",
      "source": [
        "green_col_code"
      ],
      "metadata": {
        "colab": {
          "base_uri": "https://localhost:8080/"
        },
        "id": "d83Z1joiWYN-",
        "outputId": "651134fc-61c9-40ac-ea01-75f8855a3d4a"
      },
      "execution_count": null,
      "outputs": [
        {
          "output_type": "execute_result",
          "data": {
            "text/plain": [
              "25"
            ]
          },
          "metadata": {},
          "execution_count": 16
        }
      ]
    },
    {
      "cell_type": "code",
      "source": [
        "tuple = (1,2,3,4,5,6,7)  \n",
        "#element 1 to end  \n",
        "print(tuple[1:])  \n"
      ],
      "metadata": {
        "colab": {
          "base_uri": "https://localhost:8080/"
        },
        "id": "VVlZKnKiWdGw",
        "outputId": "e1ce25cd-9948-487b-e615-505b25cc02be"
      },
      "execution_count": null,
      "outputs": [
        {
          "output_type": "stream",
          "name": "stdout",
          "text": [
            "(2, 3, 4, 5, 6, 7)\n"
          ]
        }
      ]
    },
    {
      "cell_type": "code",
      "source": [
        "x=(4,5,6,9,8,7)\n",
        "#element 0th index  to 3rd index element   \n",
        "print(x[:4])  \n"
      ],
      "metadata": {
        "colab": {
          "base_uri": "https://localhost:8080/"
        },
        "id": "VADaDluWWwCY",
        "outputId": "dd365ea1-534c-4513-a220-88b0cf24e63e"
      },
      "execution_count": null,
      "outputs": [
        {
          "output_type": "stream",
          "name": "stdout",
          "text": [
            "(4, 5, 6, 9)\n"
          ]
        }
      ]
    },
    {
      "cell_type": "code",
      "source": [
        "#element 1st to 4th element  \n",
        "print(x[1:5]) "
      ],
      "metadata": {
        "colab": {
          "base_uri": "https://localhost:8080/"
        },
        "id": "_f3JDWI0W3n-",
        "outputId": "45d366d4-f925-4171-fcfb-88f76ce20eff"
      },
      "execution_count": null,
      "outputs": [
        {
          "output_type": "stream",
          "name": "stdout",
          "text": [
            "(5, 6, 9, 8)\n"
          ]
        }
      ]
    },
    {
      "cell_type": "code",
      "source": [
        "x=(55,66,85,98,102,210,650,980,780,650)\n",
        "# element 0th index to 6th index and take step of 2  \n",
        "print(x[0:7:2]) "
      ],
      "metadata": {
        "colab": {
          "base_uri": "https://localhost:8080/"
        },
        "id": "Z0wkQM0IW6__",
        "outputId": "7f682193-d863-4e96-faf0-52c9519cb115"
      },
      "execution_count": null,
      "outputs": [
        {
          "output_type": "stream",
          "name": "stdout",
          "text": [
            "(55, 85, 102, 650)\n"
          ]
        }
      ]
    },
    {
      "cell_type": "code",
      "source": [
        "tuple1 = (1, 2, 3,\"Mango\", 4, 5)    \n",
        "# Negative indexing for accessing tuple elements\n",
        "tuple1[-1]  "
      ],
      "metadata": {
        "colab": {
          "base_uri": "https://localhost:8080/"
        },
        "id": "iulo-wnTXDhd",
        "outputId": "f947ac20-4f9c-4cbf-a8d0-1a6e9340ad41"
      },
      "execution_count": null,
      "outputs": [
        {
          "output_type": "execute_result",
          "data": {
            "text/plain": [
              "5"
            ]
          },
          "metadata": {},
          "execution_count": 23
        }
      ]
    },
    {
      "cell_type": "code",
      "source": [
        "tuple1[-3:]  "
      ],
      "metadata": {
        "colab": {
          "base_uri": "https://localhost:8080/"
        },
        "id": "Y2PzJJIKXIiA",
        "outputId": "a80ac8b6-42e0-4307-fd4d-9a8e99ba39ec"
      },
      "execution_count": null,
      "outputs": [
        {
          "output_type": "execute_result",
          "data": {
            "text/plain": [
              "('Mango', 4, 5)"
            ]
          },
          "metadata": {},
          "execution_count": 22
        }
      ]
    },
    {
      "cell_type": "code",
      "source": [],
      "metadata": {
        "id": "s1UR7EBvXLzY"
      },
      "execution_count": null,
      "outputs": []
    },
    {
      "cell_type": "markdown",
      "source": [
        "We can use + operator to combine two tuples. This is called concatenation.\n",
        "\n",
        "We can also repeat the elements in a tuple for a given number of times using the * operator.\n",
        "\n",
        "Both + and * operations result in a new tuple."
      ],
      "metadata": {
        "id": "CWjoigroXxVK"
      }
    },
    {
      "cell_type": "code",
      "source": [
        "a=(1,2)\n",
        "b=a+(3,4)\n",
        "b"
      ],
      "metadata": {
        "colab": {
          "base_uri": "https://localhost:8080/"
        },
        "id": "zJRs5hQuXzeN",
        "outputId": "c50956b4-bed5-4410-9e77-905da81780c4"
      },
      "execution_count": null,
      "outputs": [
        {
          "output_type": "execute_result",
          "data": {
            "text/plain": [
              "(1, 2, 3, 4)"
            ]
          },
          "metadata": {},
          "execution_count": 24
        }
      ]
    },
    {
      "cell_type": "code",
      "source": [
        "a*2"
      ],
      "metadata": {
        "colab": {
          "base_uri": "https://localhost:8080/"
        },
        "id": "hlGQIqY6X6vw",
        "outputId": "777e0376-8fcb-48e4-e984-0ca0432fff9f"
      },
      "execution_count": null,
      "outputs": [
        {
          "output_type": "execute_result",
          "data": {
            "text/plain": [
              "(1, 2, 1, 2)"
            ]
          },
          "metadata": {},
          "execution_count": 25
        }
      ]
    },
    {
      "cell_type": "markdown",
      "source": [
        "Methods that add items or remove items are not available with tuple. Only the following two methods are available."
      ],
      "metadata": {
        "id": "p1ozATlpYaOB"
      }
    },
    {
      "cell_type": "code",
      "source": [
        "b"
      ],
      "metadata": {
        "id": "X9DKcvAMX84a",
        "colab": {
          "base_uri": "https://localhost:8080/"
        },
        "outputId": "ffb4adbe-de98-4405-87d3-3932f2e8da64"
      },
      "execution_count": null,
      "outputs": [
        {
          "output_type": "execute_result",
          "data": {
            "text/plain": [
              "(1, 2, 3, 4)"
            ]
          },
          "metadata": {},
          "execution_count": 29
        }
      ]
    },
    {
      "cell_type": "code",
      "source": [
        "b.index(2)       # to check the index of the specific element in the tuple"
      ],
      "metadata": {
        "colab": {
          "base_uri": "https://localhost:8080/"
        },
        "id": "7swJ3gzzY9or",
        "outputId": "621516a0-4090-40ec-a2b1-7522244875fc"
      },
      "execution_count": null,
      "outputs": [
        {
          "output_type": "execute_result",
          "data": {
            "text/plain": [
              "1"
            ]
          },
          "metadata": {},
          "execution_count": 30
        }
      ]
    },
    {
      "cell_type": "code",
      "source": [
        "b.count(3)        # to count the number of the occurances of the element"
      ],
      "metadata": {
        "colab": {
          "base_uri": "https://localhost:8080/"
        },
        "id": "YP_pFxmeZEKs",
        "outputId": "83560af8-8f66-4fd2-9f05-c4d51a7ca863"
      },
      "execution_count": null,
      "outputs": [
        {
          "output_type": "execute_result",
          "data": {
            "text/plain": [
              "1"
            ]
          },
          "metadata": {},
          "execution_count": 32
        }
      ]
    },
    {
      "cell_type": "code",
      "source": [
        "# Iterating through the tuple\n",
        "a=(\"Hello\",\"World\",\"!\")\n",
        "for i in a:\n",
        "    print(i)"
      ],
      "metadata": {
        "colab": {
          "base_uri": "https://localhost:8080/"
        },
        "id": "4THlbmP2ZG25",
        "outputId": "007c4599-282d-48ee-b8d7-d44abebc4c90"
      },
      "execution_count": null,
      "outputs": [
        {
          "output_type": "stream",
          "name": "stdout",
          "text": [
            "Hello\n",
            "World\n",
            "!\n"
          ]
        }
      ]
    },
    {
      "cell_type": "markdown",
      "source": [
        "### Dictionary\n",
        "![](https://i.imgur.com/5Ex2seU.jpg)\n",
        "\n",
        "Python dictionary is an unordered collection of items. Each item of a dictionary has a key/value pair.\n",
        "\n",
        "Dictionaries are optimized to retrieve values when the key is known.\n",
        "\n",
        "Unlike sequences, which are indexed by a range of numbers, dictionaries are indexed by keys, which can be any immutable type; strings and numbers can always be keys. \n",
        "\n",
        "Tuples can be used as keys if they contain only strings, numbers, or tuples; if a tuple contains any mutable object either directly or indirectly, it cannot be used as a key. \n",
        "\n",
        "You can’t use lists as keys, since lists can be modified in place using index assignments, slice assignments, or methods like append( ) and extend( ).\n",
        "\n",
        "Creating a dictionary is as simple as placing items inside curly braces { } separated by commas.\n",
        "\n",
        "An item has a key and a corresponding value that is expressed as a pair (key: value)."
      ],
      "metadata": {
        "id": "8yNC5-DnaLCa"
      }
    },
    {
      "cell_type": "code",
      "source": [
        "# empty dictionary\n",
        "my_dict = {}\n",
        "print(my_dict)\n",
        "print(type(my_dict))"
      ],
      "metadata": {
        "colab": {
          "base_uri": "https://localhost:8080/"
        },
        "id": "mtJSQbpoZ_J3",
        "outputId": "3e830bfa-95b7-4044-ba83-60aba8de3e84"
      },
      "execution_count": null,
      "outputs": [
        {
          "output_type": "stream",
          "name": "stdout",
          "text": [
            "{}\n",
            "<class 'dict'>\n"
          ]
        }
      ]
    },
    {
      "cell_type": "code",
      "source": [
        "# dictionary with integer keys\n",
        "my_dict = {1: 'apple', 2: 'ball'}\n",
        "print(my_dict)"
      ],
      "metadata": {
        "colab": {
          "base_uri": "https://localhost:8080/"
        },
        "id": "w0RAshoucnnF",
        "outputId": "f4a74303-0a75-4de3-a82b-75767afbf090"
      },
      "execution_count": null,
      "outputs": [
        {
          "output_type": "stream",
          "name": "stdout",
          "text": [
            "{1: 'apple', 2: 'ball'}\n"
          ]
        }
      ]
    },
    {
      "cell_type": "code",
      "source": [
        "# dictionary with mixed keys\n",
        "my_dict = {'name': 'John', 1: [2, 4, 3]}\n",
        "print(my_dict)"
      ],
      "metadata": {
        "colab": {
          "base_uri": "https://localhost:8080/"
        },
        "id": "x3Sezy4Vc8rY",
        "outputId": "775c3928-98b0-438d-e564-97ce08dd9af7"
      },
      "execution_count": null,
      "outputs": [
        {
          "output_type": "stream",
          "name": "stdout",
          "text": [
            "{'name': 'John', 1: [2, 4, 3]}\n"
          ]
        }
      ]
    },
    {
      "cell_type": "code",
      "source": [
        "input_list=[[\"T'shirt\",300],[\"Watch\",900],[\"Hat\",200]]\n",
        "price_lookup=dict(input_list)"
      ],
      "metadata": {
        "id": "0f3bL6DYdBfz"
      },
      "execution_count": null,
      "outputs": []
    },
    {
      "cell_type": "code",
      "source": [
        "price_lookup"
      ],
      "metadata": {
        "colab": {
          "base_uri": "https://localhost:8080/"
        },
        "id": "dlkXXspPdrmr",
        "outputId": "ff8c8b64-279b-427c-bf88-309b37487cc4"
      },
      "execution_count": null,
      "outputs": [
        {
          "output_type": "execute_result",
          "data": {
            "text/plain": [
              "{\"T'shirt\": 300, 'Watch': 900, 'Hat': 200}"
            ]
          },
          "metadata": {},
          "execution_count": 39
        }
      ]
    },
    {
      "cell_type": "markdown",
      "source": [
        "#### Accessing Elements from Dictionary\n",
        "\n",
        "While indexing is used with other data types to access values, a dictionary uses keys. Keys can be used either inside square brackets [] or with the get() method.\n",
        "\n",
        "If we use the square brackets [], KeyError is raised in case a key is not found in the dictionary. On the other hand, the get() method returns None if the key is not found."
      ],
      "metadata": {
        "id": "nB2moBoAd3ui"
      }
    },
    {
      "cell_type": "code",
      "source": [
        "price_lookup['Hat']"
      ],
      "metadata": {
        "colab": {
          "base_uri": "https://localhost:8080/"
        },
        "id": "HtVOx_XadvIj",
        "outputId": "f043adad-f110-490d-c480-d3f3613e2c29"
      },
      "execution_count": null,
      "outputs": [
        {
          "output_type": "execute_result",
          "data": {
            "text/plain": [
              "200"
            ]
          },
          "metadata": {},
          "execution_count": 40
        }
      ]
    },
    {
      "cell_type": "code",
      "source": [
        "price_lookup['Watch']"
      ],
      "metadata": {
        "colab": {
          "base_uri": "https://localhost:8080/"
        },
        "id": "-0--ymw4d_v3",
        "outputId": "297c0bc2-14d4-46d9-d49b-c18001319941"
      },
      "execution_count": null,
      "outputs": [
        {
          "output_type": "execute_result",
          "data": {
            "text/plain": [
              "900"
            ]
          },
          "metadata": {},
          "execution_count": 43
        }
      ]
    },
    {
      "cell_type": "code",
      "source": [
        "price_lookup.get('Watch')"
      ],
      "metadata": {
        "colab": {
          "base_uri": "https://localhost:8080/"
        },
        "id": "v9Ygxkb8eMyv",
        "outputId": "5f54651b-513d-463e-b5f1-1c47ef3e2be1"
      },
      "execution_count": null,
      "outputs": [
        {
          "output_type": "execute_result",
          "data": {
            "text/plain": [
              "900"
            ]
          },
          "metadata": {},
          "execution_count": 44
        }
      ]
    },
    {
      "cell_type": "markdown",
      "source": [
        "#### Changing and Adding Dictionary elements\n",
        "\n",
        "Dictionaries are mutable. We can add new items or change the value of existing items using an assignment operator.\n",
        "\n",
        "If the key is already present, then the existing value gets updated. In case the key is not present, a new (key: value) pair is added to the dictionary."
      ],
      "metadata": {
        "id": "AZEm6vi9ep_X"
      }
    },
    {
      "cell_type": "code",
      "source": [
        "price_lookup['Hat']=300"
      ],
      "metadata": {
        "id": "wkIQypvvegiy"
      },
      "execution_count": null,
      "outputs": []
    },
    {
      "cell_type": "code",
      "source": [
        "price_lookup"
      ],
      "metadata": {
        "colab": {
          "base_uri": "https://localhost:8080/"
        },
        "id": "fceTKl8dezMR",
        "outputId": "544915c4-7598-4710-e72a-909f35587c90"
      },
      "execution_count": null,
      "outputs": [
        {
          "output_type": "execute_result",
          "data": {
            "text/plain": [
              "{\"T'shirt\": 300, 'Watch': 900, 'Hat': 300}"
            ]
          },
          "metadata": {},
          "execution_count": 46
        }
      ]
    },
    {
      "cell_type": "code",
      "source": [
        "price_lookup['Shoes']=1500"
      ],
      "metadata": {
        "id": "wPbwsUZye1Ko"
      },
      "execution_count": null,
      "outputs": []
    },
    {
      "cell_type": "code",
      "source": [
        "price_lookup"
      ],
      "metadata": {
        "colab": {
          "base_uri": "https://localhost:8080/"
        },
        "id": "aakwkB19e7Xt",
        "outputId": "9b1afdd1-4500-4204-95ac-e9679a1dd88c"
      },
      "execution_count": null,
      "outputs": [
        {
          "output_type": "execute_result",
          "data": {
            "text/plain": [
              "{\"T'shirt\": 300, 'Watch': 900, 'Hat': 300, 'Shoes': 1500}"
            ]
          },
          "metadata": {},
          "execution_count": 48
        }
      ]
    },
    {
      "cell_type": "code",
      "source": [
        "price_lookup.update({\"Shoes\":2000})        \n",
        "# update() method updates the dictionary with elements from a dictionary object or an iterable object of key/value pairs."
      ],
      "metadata": {
        "id": "WgxVXmHcq7zX"
      },
      "execution_count": null,
      "outputs": []
    },
    {
      "cell_type": "code",
      "source": [
        "price_lookup"
      ],
      "metadata": {
        "colab": {
          "base_uri": "https://localhost:8080/"
        },
        "id": "nW78He-2rUvZ",
        "outputId": "ef50f3e4-6b3e-49af-ac87-6a8dbaafa09a"
      },
      "execution_count": null,
      "outputs": [
        {
          "output_type": "execute_result",
          "data": {
            "text/plain": [
              "{\"T'shirt\": 300, 'Watch': 900, 'Hat': 300, 'Shoes': 2000}"
            ]
          },
          "metadata": {},
          "execution_count": 70
        }
      ]
    },
    {
      "cell_type": "markdown",
      "source": [
        "#### Dictionary Operations\n",
        "\n",
        "We can remove a particular item in a dictionary by using the pop() method. This method removes an item with the provided key and returns the value.\n",
        "\n",
        "The popitem() method can be used to remove and return an arbitrary (key, value) item pair from the dictionary. All the items can be removed at once, using the clear() method.\n",
        "\n",
        "We can also use the del keyword to remove individual items or the entire dictionary itself."
      ],
      "metadata": {
        "id": "MYulTFVHfQlD"
      }
    },
    {
      "cell_type": "code",
      "source": [
        "fruits=dict(fruit_1=\"banana\",fruit_2=\"Orange\",fruit_3=\"Mango\")  \n",
        "fruits\n"
      ],
      "metadata": {
        "colab": {
          "base_uri": "https://localhost:8080/"
        },
        "id": "KZorHtZme9jI",
        "outputId": "dc390cda-c885-4789-a060-060df1a8f53a"
      },
      "execution_count": null,
      "outputs": [
        {
          "output_type": "execute_result",
          "data": {
            "text/plain": [
              "{'fruit_1': 'banana', 'fruit_2': 'Orange', 'fruit_3': 'Mango'}"
            ]
          },
          "metadata": {},
          "execution_count": 49
        }
      ]
    },
    {
      "cell_type": "code",
      "source": [
        "new_fruits=fruits.copy()\n",
        "new_fruits"
      ],
      "metadata": {
        "colab": {
          "base_uri": "https://localhost:8080/"
        },
        "id": "syiguh6Jf0Ko",
        "outputId": "a02f9581-db19-4f9d-c339-e0fdf5bc3dfe"
      },
      "execution_count": null,
      "outputs": [
        {
          "output_type": "execute_result",
          "data": {
            "text/plain": [
              "{'fruit_1': 'banana', 'fruit_2': 'Orange', 'fruit_3': 'Mango'}"
            ]
          },
          "metadata": {},
          "execution_count": 50
        }
      ]
    },
    {
      "cell_type": "code",
      "source": [
        "new_fruits.pop('fruit_2')"
      ],
      "metadata": {
        "colab": {
          "base_uri": "https://localhost:8080/",
          "height": 36
        },
        "id": "1-KdWp0wf3WM",
        "outputId": "3fa648ca-be26-401c-e538-d8f4f09aca37"
      },
      "execution_count": null,
      "outputs": [
        {
          "output_type": "execute_result",
          "data": {
            "text/plain": [
              "'Orange'"
            ],
            "application/vnd.google.colaboratory.intrinsic+json": {
              "type": "string"
            }
          },
          "metadata": {},
          "execution_count": 52
        }
      ]
    },
    {
      "cell_type": "code",
      "source": [
        "new_fruits"
      ],
      "metadata": {
        "colab": {
          "base_uri": "https://localhost:8080/"
        },
        "id": "vFAzO0P5f7XY",
        "outputId": "253aebd4-a009-41f0-f411-aca2d85f2bd4"
      },
      "execution_count": null,
      "outputs": [
        {
          "output_type": "execute_result",
          "data": {
            "text/plain": [
              "{'fruit_1': 'banana', 'fruit_3': 'Mango'}"
            ]
          },
          "metadata": {},
          "execution_count": 53
        }
      ]
    },
    {
      "cell_type": "code",
      "source": [
        "new_fruits.popitem()"
      ],
      "metadata": {
        "colab": {
          "base_uri": "https://localhost:8080/"
        },
        "id": "SMEen-53gJfn",
        "outputId": "6ef9ba78-8676-4e47-827d-dfc6eebda702"
      },
      "execution_count": null,
      "outputs": [
        {
          "output_type": "execute_result",
          "data": {
            "text/plain": [
              "('fruit_3', 'Mango')"
            ]
          },
          "metadata": {},
          "execution_count": 55
        }
      ]
    },
    {
      "cell_type": "code",
      "source": [
        "new_fruits"
      ],
      "metadata": {
        "colab": {
          "base_uri": "https://localhost:8080/"
        },
        "id": "F71yxbs-gWgr",
        "outputId": "86e1f937-1e64-455b-a774-59ecd8efaaae"
      },
      "execution_count": null,
      "outputs": [
        {
          "output_type": "execute_result",
          "data": {
            "text/plain": [
              "{'fruit_1': 'banana'}"
            ]
          },
          "metadata": {},
          "execution_count": 56
        }
      ]
    },
    {
      "cell_type": "code",
      "source": [
        "new_fruits.clear()                                                              # to empty "
      ],
      "metadata": {
        "id": "KvyyVKMOghzs"
      },
      "execution_count": null,
      "outputs": []
    },
    {
      "cell_type": "code",
      "source": [
        "new_fruits"
      ],
      "metadata": {
        "colab": {
          "base_uri": "https://localhost:8080/"
        },
        "id": "HA2YQ9-jgkFP",
        "outputId": "fe6a01f5-839a-4efa-848e-b380874dbec1"
      },
      "execution_count": null,
      "outputs": [
        {
          "output_type": "execute_result",
          "data": {
            "text/plain": [
              "{}"
            ]
          },
          "metadata": {},
          "execution_count": 58
        }
      ]
    },
    {
      "cell_type": "code",
      "source": [
        "new_fruits.update({\"fruit_4\":\"Lichi\",\"fruit_5\":\"Pinaaple\"})          # to add new dictionary in to old dictionary "
      ],
      "metadata": {
        "id": "nsnWjN03glkm"
      },
      "execution_count": null,
      "outputs": []
    },
    {
      "cell_type": "code",
      "source": [
        "new_fruits"
      ],
      "metadata": {
        "colab": {
          "base_uri": "https://localhost:8080/"
        },
        "id": "TNUSoKVboWVF",
        "outputId": "51b60e29-6b92-47e3-8a97-ac9d3feb56ab"
      },
      "execution_count": null,
      "outputs": [
        {
          "output_type": "execute_result",
          "data": {
            "text/plain": [
              "{'fruit_4': 'Lichi', 'fruit_5': 'Pinaaple'}"
            ]
          },
          "metadata": {},
          "execution_count": 60
        }
      ]
    },
    {
      "cell_type": "code",
      "source": [
        "del new_fruits['fruit_4']                                           # to delete a specific k:v pair"
      ],
      "metadata": {
        "id": "coF9VFOjoYlE"
      },
      "execution_count": null,
      "outputs": []
    },
    {
      "cell_type": "code",
      "source": [
        "new_fruits"
      ],
      "metadata": {
        "colab": {
          "base_uri": "https://localhost:8080/"
        },
        "id": "RN6SdwkOomED",
        "outputId": "0b070fc8-1521-4d08-db2b-8d172019cfa8"
      },
      "execution_count": null,
      "outputs": [
        {
          "output_type": "execute_result",
          "data": {
            "text/plain": [
              "{'fruit_5': 'Pinaaple'}"
            ]
          },
          "metadata": {},
          "execution_count": 62
        }
      ]
    },
    {
      "cell_type": "code",
      "source": [
        "del new_fruits                                              # to delete a dictionary"
      ],
      "metadata": {
        "id": "ZFuZDx7AooqE"
      },
      "execution_count": null,
      "outputs": []
    },
    {
      "cell_type": "code",
      "source": [
        "new_fruits"
      ],
      "metadata": {
        "colab": {
          "base_uri": "https://localhost:8080/",
          "height": 165
        },
        "id": "emH3HG7fo9He",
        "outputId": "70ca1b12-f25d-493c-ae3c-a94226e824cc"
      },
      "execution_count": null,
      "outputs": [
        {
          "output_type": "error",
          "ename": "NameError",
          "evalue": "ignored",
          "traceback": [
            "\u001b[0;31m---------------------------------------------------------------------------\u001b[0m",
            "\u001b[0;31mNameError\u001b[0m                                 Traceback (most recent call last)",
            "\u001b[0;32m<ipython-input-64-3881ea8ebbd2>\u001b[0m in \u001b[0;36m<module>\u001b[0;34m\u001b[0m\n\u001b[0;32m----> 1\u001b[0;31m \u001b[0mnew_fruits\u001b[0m\u001b[0;34m\u001b[0m\u001b[0;34m\u001b[0m\u001b[0m\n\u001b[0m",
            "\u001b[0;31mNameError\u001b[0m: name 'new_fruits' is not defined"
          ]
        }
      ]
    },
    {
      "cell_type": "code",
      "source": [
        "fruits"
      ],
      "metadata": {
        "colab": {
          "base_uri": "https://localhost:8080/"
        },
        "id": "P4Z7sIoJpEnv",
        "outputId": "0a7b0118-ae71-4306-d854-fabf609c3072"
      },
      "execution_count": null,
      "outputs": [
        {
          "output_type": "execute_result",
          "data": {
            "text/plain": [
              "{'fruit_1': 'banana', 'fruit_2': 'Orange', 'fruit_3': 'Mango'}"
            ]
          },
          "metadata": {},
          "execution_count": 65
        }
      ]
    },
    {
      "cell_type": "markdown",
      "source": [
        "items( ) -- Return a new object of the dictionary's items in (key, value) format.\n",
        "\t\t\t\n",
        "keys( ) -- Returns a new object of the dictionary's keys.\n",
        "\n",
        "value( ) -- Returns a new object of the dictionary's values"
      ],
      "metadata": {
        "id": "ts7e-xV6pX9b"
      }
    },
    {
      "cell_type": "code",
      "source": [
        "fruits.keys()"
      ],
      "metadata": {
        "colab": {
          "base_uri": "https://localhost:8080/"
        },
        "id": "Yp3Pei57pHO7",
        "outputId": "807de86d-903c-49fa-9c8a-0b3c5dac4267"
      },
      "execution_count": null,
      "outputs": [
        {
          "output_type": "execute_result",
          "data": {
            "text/plain": [
              "dict_keys(['fruit_1', 'fruit_2', 'fruit_3'])"
            ]
          },
          "metadata": {},
          "execution_count": 66
        }
      ]
    },
    {
      "cell_type": "code",
      "source": [
        "fruits.values()"
      ],
      "metadata": {
        "colab": {
          "base_uri": "https://localhost:8080/"
        },
        "id": "PTRTxeUuqPt-",
        "outputId": "8725ec95-166e-465d-9b55-8f3364bd9561"
      },
      "execution_count": null,
      "outputs": [
        {
          "output_type": "execute_result",
          "data": {
            "text/plain": [
              "dict_values(['banana', 'Orange', 'Mango'])"
            ]
          },
          "metadata": {},
          "execution_count": 67
        }
      ]
    },
    {
      "cell_type": "code",
      "source": [
        "fruits.items()"
      ],
      "metadata": {
        "colab": {
          "base_uri": "https://localhost:8080/"
        },
        "id": "P0mvC60NqSvZ",
        "outputId": "67b81a92-169f-4b9a-acc2-e59f277284c0"
      },
      "execution_count": null,
      "outputs": [
        {
          "output_type": "execute_result",
          "data": {
            "text/plain": [
              "dict_items([('fruit_1', 'banana'), ('fruit_2', 'Orange'), ('fruit_3', 'Mango')])"
            ]
          },
          "metadata": {},
          "execution_count": 68
        }
      ]
    },
    {
      "cell_type": "code",
      "source": [
        "for i in fruits:\n",
        "    print(i)"
      ],
      "metadata": {
        "colab": {
          "base_uri": "https://localhost:8080/"
        },
        "id": "RZxhY7aaqUh8",
        "outputId": "0f8955e0-349e-4cf2-a84e-4f668166731b"
      },
      "execution_count": null,
      "outputs": [
        {
          "output_type": "stream",
          "name": "stdout",
          "text": [
            "fruit_1\n",
            "fruit_2\n",
            "fruit_3\n"
          ]
        }
      ]
    },
    {
      "cell_type": "code",
      "source": [
        "for i in fruits.values():\n",
        "    print(i)"
      ],
      "metadata": {
        "colab": {
          "base_uri": "https://localhost:8080/"
        },
        "id": "QqE9Rsd1rpob",
        "outputId": "c756cfbe-6184-4107-ce64-007d29071c16"
      },
      "execution_count": null,
      "outputs": [
        {
          "output_type": "stream",
          "name": "stdout",
          "text": [
            "banana\n",
            "Orange\n",
            "Mango\n"
          ]
        }
      ]
    },
    {
      "cell_type": "code",
      "source": [
        "for i in fruits.keys():\n",
        "    print(i)"
      ],
      "metadata": {
        "colab": {
          "base_uri": "https://localhost:8080/"
        },
        "id": "CAbSQqZNrvLx",
        "outputId": "a5c857fd-14a0-4c87-f7c0-bea7cc34a3b4"
      },
      "execution_count": null,
      "outputs": [
        {
          "output_type": "stream",
          "name": "stdout",
          "text": [
            "fruit_1\n",
            "fruit_2\n",
            "fruit_3\n"
          ]
        }
      ]
    },
    {
      "cell_type": "code",
      "source": [
        "for i in fruits.items():\n",
        "    print(i)"
      ],
      "metadata": {
        "colab": {
          "base_uri": "https://localhost:8080/"
        },
        "id": "M6EdhZzPrzyw",
        "outputId": "5930e940-9c9f-4c3c-cb98-86361d06e435"
      },
      "execution_count": null,
      "outputs": [
        {
          "output_type": "stream",
          "name": "stdout",
          "text": [
            "('fruit_1', 'banana')\n",
            "('fruit_2', 'Orange')\n",
            "('fruit_3', 'Mango')\n"
          ]
        }
      ]
    },
    {
      "cell_type": "code",
      "source": [
        "for k,v in fruits.items():\n",
        "    print(k,\"--->>\",v)"
      ],
      "metadata": {
        "colab": {
          "base_uri": "https://localhost:8080/"
        },
        "id": "frAZrmJmr4Z0",
        "outputId": "499b918f-f27f-4780-c24a-593cb7970f66"
      },
      "execution_count": null,
      "outputs": [
        {
          "output_type": "stream",
          "name": "stdout",
          "text": [
            "fruit_1 --->> banana\n",
            "fruit_2 --->> Orange\n",
            "fruit_3 --->> Mango\n"
          ]
        }
      ]
    },
    {
      "cell_type": "code",
      "source": [
        "# To create a dictionary from two lists of tuple zip( ) is used\n",
        "x=['Height','Weight','Gender']\n",
        "y=[157,67,'Female']\n",
        "\n",
        "z=zip(x,y)"
      ],
      "metadata": {
        "id": "Elx96ROHsC1O"
      },
      "execution_count": 1,
      "outputs": []
    },
    {
      "cell_type": "code",
      "source": [
        "z"
      ],
      "metadata": {
        "colab": {
          "base_uri": "https://localhost:8080/"
        },
        "id": "GaTjjfIJ9VRd",
        "outputId": "3c7482ae-df58-4ee2-dd88-a022b8617314"
      },
      "execution_count": 2,
      "outputs": [
        {
          "output_type": "execute_result",
          "data": {
            "text/plain": [
              "<zip at 0x7f35a8e69fa0>"
            ]
          },
          "metadata": {},
          "execution_count": 2
        }
      ]
    },
    {
      "cell_type": "code",
      "source": [
        "info=dict(z)\n",
        "info"
      ],
      "metadata": {
        "colab": {
          "base_uri": "https://localhost:8080/"
        },
        "id": "j0_mG0mwsvHn",
        "outputId": "e443610c-a1af-4784-cb0c-8d103bc78bea"
      },
      "execution_count": 3,
      "outputs": [
        {
          "output_type": "execute_result",
          "data": {
            "text/plain": [
              "{'Height': 157, 'Weight': 67, 'Gender': 'Female'}"
            ]
          },
          "metadata": {},
          "execution_count": 3
        }
      ]
    },
    {
      "cell_type": "code",
      "source": [
        "list_info=list(z)\n",
        "list_info"
      ],
      "metadata": {
        "colab": {
          "base_uri": "https://localhost:8080/"
        },
        "id": "j5XP8eKj9kLz",
        "outputId": "d1964f4f-78ba-42d0-e3dc-d8c742e13e8d"
      },
      "execution_count": 4,
      "outputs": [
        {
          "output_type": "execute_result",
          "data": {
            "text/plain": [
              "[]"
            ]
          },
          "metadata": {},
          "execution_count": 4
        }
      ]
    },
    {
      "cell_type": "code",
      "source": [
        "tuple_info=tuple(z)\n",
        "tuple_info"
      ],
      "metadata": {
        "colab": {
          "base_uri": "https://localhost:8080/"
        },
        "id": "uj99toVX9seJ",
        "outputId": "fe811f79-c5a5-41a9-db40-235ea8130847"
      },
      "execution_count": 5,
      "outputs": [
        {
          "output_type": "execute_result",
          "data": {
            "text/plain": [
              "()"
            ]
          },
          "metadata": {},
          "execution_count": 5
        }
      ]
    },
    {
      "cell_type": "code",
      "source": [
        "age={'Foo': 33, 'Bar': 24, 'Martin': 24}"
      ],
      "metadata": {
        "id": "h7AhHFykswNr"
      },
      "execution_count": null,
      "outputs": []
    },
    {
      "cell_type": "code",
      "source": [
        "max(age,key=age.get)                        # to find out the key having maximum value"
      ],
      "metadata": {
        "colab": {
          "base_uri": "https://localhost:8080/",
          "height": 36
        },
        "id": "CoKYNoWWtLYn",
        "outputId": "50be2a30-a32c-4493-fa92-f5cf8d74a3a7"
      },
      "execution_count": null,
      "outputs": [
        {
          "output_type": "execute_result",
          "data": {
            "text/plain": [
              "'Foo'"
            ],
            "application/vnd.google.colaboratory.intrinsic+json": {
              "type": "string"
            }
          },
          "metadata": {},
          "execution_count": 80
        }
      ]
    },
    {
      "cell_type": "code",
      "source": [
        "min(age,key=age.get)                        # to find out the key having minimum value"
      ],
      "metadata": {
        "colab": {
          "base_uri": "https://localhost:8080/",
          "height": 36
        },
        "id": "akN-rIeYtOG6",
        "outputId": "bc8a33a7-1ed0-40e4-8d97-e887a43468a8"
      },
      "execution_count": null,
      "outputs": [
        {
          "output_type": "execute_result",
          "data": {
            "text/plain": [
              "'Bar'"
            ],
            "application/vnd.google.colaboratory.intrinsic+json": {
              "type": "string"
            }
          },
          "metadata": {},
          "execution_count": 81
        }
      ]
    },
    {
      "cell_type": "markdown",
      "source": [
        "### Array\n",
        "![](https://i.imgur.com/e6s4T0s.jpg)\n",
        "\n",
        "An array is a collection of items stored at contiguous memory locations. The idea is to store multiple items of the same type together. This makes it easier to calculate the position of each element by simply adding an offset to a base value, i.e., the memory location of the first element of the array (generally denoted by the name of the array).\n",
        "\n",
        "For simplicity, we can think of an array a fleet of stairs where on each step is placed a value (let’s say one of your friends). Here, you can identify the location of any of your friends by simply knowing the count of the step they are on. \n",
        "\n",
        "Array can be handled in Python by a module named array. They can be useful when we have to manipulate only a specific data type values. \n",
        "\n",
        "A user can treat lists as arrays. However, user cannot constraint the type of elements stored in a list. \n",
        "\n",
        "If you create arrays using the array module, all elements of the array must be of the same type. "
      ],
      "metadata": {
        "id": "h5bRgxpIxGqQ"
      }
    },
    {
      "cell_type": "code",
      "source": [
        "# How to write an array\n",
        "import array                                # importing array module from python library\n",
        "\n",
        "arr = array.array('i', [7, 2, 0, -8])       # creating an array, mention the data type. here i is for integer\n",
        "print(arr)\n",
        "\n",
        "print(type(arr))"
      ],
      "metadata": {
        "id": "ZQCBgzIHuHU5"
      },
      "execution_count": null,
      "outputs": []
    },
    {
      "cell_type": "code",
      "source": [
        "arr = array.array('i', [7, 2, 0, -8, 55.55])             # array doen't supprort different data types\n",
        "print(arr)\n",
        "\n",
        "print(type(arr))"
      ],
      "metadata": {
        "id": "jM33oOrJym86"
      },
      "execution_count": null,
      "outputs": []
    },
    {
      "cell_type": "code",
      "source": [
        "arr = array.array('f', [7, 2, 0, -8, 55.55])             # array doen't supprort different data types\n",
        "print(arr)                                               # f is for float\n",
        "\n",
        "print(type(arr))"
      ],
      "metadata": {
        "id": "6iw6xSyXy7FB"
      },
      "execution_count": null,
      "outputs": []
    },
    {
      "cell_type": "code",
      "source": [
        "arr = array.array('d', [7, 2, 0, -8, 55.55])             # array doen't supprort different data types\n",
        "print(arr)                                               # d is for double\n",
        "\n",
        "print(type(arr))"
      ],
      "metadata": {
        "id": "ijZZAHFczNka"
      },
      "execution_count": null,
      "outputs": []
    },
    {
      "cell_type": "code",
      "source": [
        "arr = array.array('u', [7, 2, 0, -8, 55.55])             # array doen't supprort different data types\n",
        "print(arr)                                               # \n",
        "\n",
        "print(type(arr))"
      ],
      "metadata": {
        "id": "EUaTYxg6z6jA"
      },
      "execution_count": null,
      "outputs": []
    },
    {
      "cell_type": "code",
      "source": [
        "arr = array.array('u', ['7', '2', '0', '-8', '55.55'])             # array doen't supprort different data types\n",
        "print(arr)                                               # \n",
        "\n",
        "print(type(arr))"
      ],
      "metadata": {
        "id": "NTKvviLh0Cdu"
      },
      "execution_count": null,
      "outputs": []
    },
    {
      "cell_type": "code",
      "source": [
        "arr = array.array('u', ['a', 'b', 'c', 'd', 'e'])             # array doen't supprort different data types\n",
        "print(arr)                                               # u for Unicode char\n",
        "\n",
        "print(type(arr))"
      ],
      "metadata": {
        "id": "kKSBewIE01WD"
      },
      "execution_count": null,
      "outputs": []
    },
    {
      "cell_type": "markdown",
      "source": [
        "**Commonly used type codes are listed as follows:**\n",
        "\n",
        "\n",
        "![](https://i.imgur.com/cgCAdaA.jpg)"
      ],
      "metadata": {
        "id": "NoLlZVUWAz-H"
      }
    },
    {
      "cell_type": "markdown",
      "source": [
        "#### Basic Operations on Array"
      ],
      "metadata": {
        "id": "xF8gIlCMBJCn"
      }
    },
    {
      "cell_type": "code",
      "source": [
        "# 1. Length => total number of elements inside the array\n",
        "# len(arrayName)\n",
        "\n",
        "a1 = array.array('i', [7,0,1,-6,-8,10])\n",
        "print(len(a1))"
      ],
      "metadata": {
        "id": "g9Z6Mukw0910"
      },
      "execution_count": null,
      "outputs": []
    },
    {
      "cell_type": "code",
      "source": [
        "# 2. Indexing => Return the element at defined position number\n",
        "# arrName[pos]\n",
        "#\n",
        "a1 = array.array('i', [7,0,1,-6,-8,10])\n",
        "print(a1[2])\n",
        "print(a1[-1])"
      ],
      "metadata": {
        "id": "ZdL7OIOy_x3U"
      },
      "execution_count": null,
      "outputs": []
    },
    {
      "cell_type": "code",
      "source": [
        "# 3. Slicing => Returns the chunk of array\n",
        "# arrName[start : end : step size]\n",
        "# start = 0\n",
        "# end = length of seq\n",
        "# step size = 1\n",
        "\n",
        "a1 = array.array('i', [7,0,1,-6,-8,10])\n",
        "print(a1[0 : 4])"
      ],
      "metadata": {
        "id": "-fHoFtpLBcQ-"
      },
      "execution_count": null,
      "outputs": []
    },
    {
      "cell_type": "code",
      "source": [
        "# return the element at  odd pos only\n",
        "print(a1[1 : : 2])"
      ],
      "metadata": {
        "id": "RhdU5W0-BjRr"
      },
      "execution_count": null,
      "outputs": []
    },
    {
      "cell_type": "code",
      "source": [
        "# 4. Concatenation (+)\n",
        "import array\n",
        "a1 = array.array('i', [7,0,1,-6,-8,10])\n",
        "a2 = array.array(\"d\", [0.2, 5.2, -6.8, 4.2])\n",
        "# # print(a1 + a2)\n",
        "#\n",
        "print(a1 + a1)\n",
        "print(a2 + a2)\n",
        "print(a1+a2)"
      ],
      "metadata": {
        "id": "RvacCJizBo5G"
      },
      "execution_count": null,
      "outputs": []
    },
    {
      "cell_type": "code",
      "source": [
        "# 5. Repitition (*)\n",
        "\n",
        "a1 = array.array('i', [7,0,1,-6,-8,10])\n",
        "print(a1 * 5)"
      ],
      "metadata": {
        "id": "eBrq2TfRBz4A"
      },
      "execution_count": null,
      "outputs": []
    },
    {
      "cell_type": "code",
      "source": [
        "# repeat the elements 8 times which are at position multiple of 3\n",
        "\n",
        "print(a1[0 : : 3] * 8)"
      ],
      "metadata": {
        "id": "AzHbvkrgB7eN"
      },
      "execution_count": null,
      "outputs": []
    },
    {
      "cell_type": "code",
      "source": [
        "# 6. Membership (in)\n",
        "# Return TRUE if element is present inside the array\n",
        "\n",
        "a1 = array.array('i', [7,0,1,-6,-8,10])\n",
        "print(900 in a1)\n",
        "print(0 in a1)"
      ],
      "metadata": {
        "id": "v89ma0V-CHa5"
      },
      "execution_count": null,
      "outputs": []
    },
    {
      "cell_type": "markdown",
      "source": [
        "#### Array Methods"
      ],
      "metadata": {
        "id": "km8MNeVQCXTF"
      }
    },
    {
      "cell_type": "code",
      "source": [
        "# APPEND => inserting an elment to the end of the array\n",
        "a1 = array.array('i', [2, 8, -3, 0, -4, 1])\n",
        "a1.append(99)\n",
        "# a1.append(-100)\n",
        "# a1.append(0)\n",
        "print(a1)"
      ],
      "metadata": {
        "id": "y6wn8l6MCRnV"
      },
      "execution_count": null,
      "outputs": []
    },
    {
      "cell_type": "code",
      "source": [
        "# INSERT => inserts at defined position number\n",
        "# arrName.insert(pos, value)\n",
        "\n",
        "a1 = array.array('i', [2, 8, -3, 0, -4, 1])\n",
        "\n",
        "# insert -100 at pos 4\n",
        "# print(a1[4])\n",
        "a1.insert(4, -100)\n",
        "print(a1)"
      ],
      "metadata": {
        "id": "XsvngrWxCjvH"
      },
      "execution_count": null,
      "outputs": []
    },
    {
      "cell_type": "code",
      "source": [
        "# Updation\n",
        "# arrayName[pos] = value\n",
        "\n",
        "a1 = array.array('i', [2, 8, -3, 0, -4, 1])\n",
        "\n",
        "# replace 0 by 9999\n",
        "# print(a1[3])\n",
        "a1[3] = 9999\n",
        "print(a1)"
      ],
      "metadata": {
        "id": "vpmPYuzaC0GK"
      },
      "execution_count": null,
      "outputs": []
    },
    {
      "cell_type": "code",
      "source": [
        "# modify the negative element to the square of it\n",
        "\n",
        "for each in a1 :\n",
        "    if each < 0 :\n",
        "        pos = a1.index(each)\n",
        "        a1[pos] = a1[pos] ** 2\n",
        "\n",
        "print(a1)"
      ],
      "metadata": {
        "id": "NGt2hSflDA0n"
      },
      "execution_count": null,
      "outputs": []
    },
    {
      "cell_type": "code",
      "source": [
        "# Removing the element\n",
        "\n",
        "# 1. remove by element VALUE, but only the first occurence of it\n",
        "# arrayName.remove(element)\n",
        "\n",
        "a1 = array.array('i', [2, 8, -3, 0, -4, 1, 0])\n",
        "a1.remove(0)\n",
        "\n",
        "print(a1)"
      ],
      "metadata": {
        "colab": {
          "base_uri": "https://localhost:8080/"
        },
        "id": "qoHEy29zDGjC",
        "outputId": "795d03bd-14e8-4c05-c07e-b6566327cb06"
      },
      "execution_count": null,
      "outputs": [
        {
          "output_type": "stream",
          "name": "stdout",
          "text": [
            "array('i', [2, 8, -3, -4, 1, 0])\n"
          ]
        }
      ]
    },
    {
      "cell_type": "code",
      "source": [
        "# 2. POP method\n",
        "# removes the element from the end of the sequence and returns the element\n",
        "\n",
        "a1 = array.array('i', [2, 8, -3, 0, -4, 1, 0])\n",
        "print(a1.pop())\n",
        "# print(a1.pop())"
      ],
      "metadata": {
        "colab": {
          "base_uri": "https://localhost:8080/"
        },
        "id": "jmQ_9tEpDORN",
        "outputId": "ca1fa8c1-723e-4941-c6c1-c9fb85ea500b"
      },
      "execution_count": null,
      "outputs": [
        {
          "output_type": "stream",
          "name": "stdout",
          "text": [
            "0\n"
          ]
        }
      ]
    },
    {
      "cell_type": "code",
      "source": [
        "# 3. Count => returns the occurence of the element\n",
        "# arrayName.count(element)\n",
        "\n",
        "a1 = array.array('i', [2, 8, -3, 0, -4, 1, 0])\n",
        "print(a1.count(0))\n",
        "# print(a1.count(-3))"
      ],
      "metadata": {
        "colab": {
          "base_uri": "https://localhost:8080/"
        },
        "id": "lUnIOtLFDTrt",
        "outputId": "b5ba8b9d-3637-4c2e-a764-effff9f152cd"
      },
      "execution_count": null,
      "outputs": [
        {
          "output_type": "stream",
          "name": "stdout",
          "text": [
            "2\n"
          ]
        }
      ]
    },
    {
      "cell_type": "code",
      "source": [
        "\n",
        "# 4. Reverse the array\n",
        "# arrayName.reverse()\n",
        "\n",
        "\n",
        "a1 = array.array('i', [2, 8, -3, 0, -4, 1, 0])\n",
        "a1.reverse()\n",
        "print(a1)"
      ],
      "metadata": {
        "colab": {
          "base_uri": "https://localhost:8080/"
        },
        "id": "6kikXRqFDb5p",
        "outputId": "227400b6-1a3d-4bf6-8159-bfefe4299f99"
      },
      "execution_count": null,
      "outputs": [
        {
          "output_type": "stream",
          "name": "stdout",
          "text": [
            "array('i', [0, 1, -4, 0, -3, 8, 2])\n"
          ]
        }
      ]
    },
    {
      "cell_type": "code",
      "source": [
        "# 5. Extend\n",
        "# inserting elements freom one array to another\n",
        "\n",
        "a1 = array.array('i', [2, 8, -3, 0, -4, 1, 0])\n",
        "a2 = array.array(\"i\", [-88, -77, -55])\n",
        "\n",
        "a1.extend(a2)\n",
        "print(a1)"
      ],
      "metadata": {
        "colab": {
          "base_uri": "https://localhost:8080/"
        },
        "id": "aUP823S2Dkkn",
        "outputId": "dccf7ab7-3220-4ec6-f824-79d52cb09a3b"
      },
      "execution_count": null,
      "outputs": [
        {
          "output_type": "stream",
          "name": "stdout",
          "text": [
            "array('i', [2, 8, -3, 0, -4, 1, 0, -88, -77, -55])\n"
          ]
        }
      ]
    },
    {
      "cell_type": "code",
      "source": [
        "# 6. Indexing => Return the position number of the element\n",
        "# arrayName.index(elemtn)\n",
        "\n",
        "a1 = array.array('i', [2, 8, -3, 0, -4, 1, 0])\n",
        "print(a1.index(-4))\n",
        "print(a1.index(2))"
      ],
      "metadata": {
        "colab": {
          "base_uri": "https://localhost:8080/"
        },
        "id": "S1TX6cYqDrZq",
        "outputId": "705e2fbc-de39-4713-da0b-221254cff445"
      },
      "execution_count": null,
      "outputs": [
        {
          "output_type": "stream",
          "name": "stdout",
          "text": [
            "4\n",
            "0\n"
          ]
        }
      ]
    }
  ],
  "metadata": {
    "kernelspec": {
      "display_name": "Python 3",
      "language": "python",
      "name": "python3"
    },
    "language_info": {
      "codemirror_mode": {
        "name": "ipython",
        "version": 3
      },
      "file_extension": ".py",
      "mimetype": "text/x-python",
      "name": "python",
      "nbconvert_exporter": "python",
      "pygments_lexer": "ipython3",
      "version": "3.8.3"
    },
    "toc": {
      "base_numbering": 1,
      "nav_menu": {},
      "number_sections": true,
      "sideBar": true,
      "skip_h1_title": false,
      "title_cell": "Table of Contents",
      "title_sidebar": "Contents",
      "toc_cell": false,
      "toc_position": {},
      "toc_section_display": true,
      "toc_window_display": false
    },
    "colab": {
      "name": "Copy of Python Session 3.ipynb",
      "provenance": [],
      "collapsed_sections": [
        "qoHFMnGqziy2",
        "8iIw0RTt2jXB",
        "0i2BKeyv3RZJ",
        "XvUU0M6V5bTQ",
        "3Di4Be-46v5U"
      ],
      "include_colab_link": true
    }
  },
  "nbformat": 4,
  "nbformat_minor": 0
}